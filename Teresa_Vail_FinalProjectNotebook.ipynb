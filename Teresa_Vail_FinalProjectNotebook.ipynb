{
 "cells": [
  {
   "cell_type": "code",
   "execution_count": 116,
   "id": "1bab0a7e",
   "metadata": {},
   "outputs": [],
   "source": [
    "## core packages\n",
    "\n",
    "import numpy as np\n",
    "import pandas as pd\n",
    "import sklearn as sk\n",
    "import matplotlib.pyplot as plt\n",
    "import seaborn as sns\n",
    "from sklearn.model_selection import train_test_split\n",
    "from sklearn.metrics import accuracy_score\n",
    "from sklearn.model_selection import GridSearchCV\n",
    "from sklearn.ensemble import RandomForestClassifier\n",
    "from sklearn.neighbors import KNeighborsClassifier\n",
    "from sklearn.naive_bayes import BernoulliNB\n",
    "from sklearn.linear_model import LogisticRegression\n",
    "from sklearn.metrics import confusion_matrix, classification_report\n",
    "from sklearn.metrics import f1_score\n",
    "from sklearn.metrics import precision_score\n",
    "from sklearn.metrics import recall_score"
   ]
  },
  {
   "cell_type": "code",
   "execution_count": 2,
   "id": "764291c6",
   "metadata": {},
   "outputs": [
    {
     "data": {
      "text/html": [
       "<div>\n",
       "<style scoped>\n",
       "    .dataframe tbody tr th:only-of-type {\n",
       "        vertical-align: middle;\n",
       "    }\n",
       "\n",
       "    .dataframe tbody tr th {\n",
       "        vertical-align: top;\n",
       "    }\n",
       "\n",
       "    .dataframe thead th {\n",
       "        text-align: right;\n",
       "    }\n",
       "</style>\n",
       "<table border=\"1\" class=\"dataframe\">\n",
       "  <thead>\n",
       "    <tr style=\"text-align: right;\">\n",
       "      <th></th>\n",
       "      <th>Unnamed: 0</th>\n",
       "      <th>age.65</th>\n",
       "      <th>amnesia.before</th>\n",
       "      <th>basal.skull.fracture</th>\n",
       "      <th>GCS.decrease</th>\n",
       "      <th>GCS.13</th>\n",
       "      <th>GCS.15.2hours</th>\n",
       "      <th>high.risk</th>\n",
       "      <th>loss.of.consciousness</th>\n",
       "      <th>open.skull.fracture</th>\n",
       "      <th>vomiting</th>\n",
       "      <th>clinically.important.brain.injury</th>\n",
       "    </tr>\n",
       "  </thead>\n",
       "  <tbody>\n",
       "    <tr>\n",
       "      <th>0</th>\n",
       "      <td>1</td>\n",
       "      <td>0</td>\n",
       "      <td>1</td>\n",
       "      <td>0</td>\n",
       "      <td>0</td>\n",
       "      <td>0</td>\n",
       "      <td>0</td>\n",
       "      <td>0</td>\n",
       "      <td>0</td>\n",
       "      <td>0</td>\n",
       "      <td>0</td>\n",
       "      <td>0</td>\n",
       "    </tr>\n",
       "    <tr>\n",
       "      <th>1</th>\n",
       "      <td>2</td>\n",
       "      <td>0</td>\n",
       "      <td>0</td>\n",
       "      <td>0</td>\n",
       "      <td>0</td>\n",
       "      <td>0</td>\n",
       "      <td>0</td>\n",
       "      <td>0</td>\n",
       "      <td>0</td>\n",
       "      <td>0</td>\n",
       "      <td>0</td>\n",
       "      <td>0</td>\n",
       "    </tr>\n",
       "    <tr>\n",
       "      <th>2</th>\n",
       "      <td>3</td>\n",
       "      <td>0</td>\n",
       "      <td>0</td>\n",
       "      <td>0</td>\n",
       "      <td>0</td>\n",
       "      <td>0</td>\n",
       "      <td>0</td>\n",
       "      <td>0</td>\n",
       "      <td>0</td>\n",
       "      <td>0</td>\n",
       "      <td>0</td>\n",
       "      <td>0</td>\n",
       "    </tr>\n",
       "    <tr>\n",
       "      <th>3</th>\n",
       "      <td>4</td>\n",
       "      <td>0</td>\n",
       "      <td>0</td>\n",
       "      <td>0</td>\n",
       "      <td>0</td>\n",
       "      <td>0</td>\n",
       "      <td>1</td>\n",
       "      <td>0</td>\n",
       "      <td>0</td>\n",
       "      <td>0</td>\n",
       "      <td>0</td>\n",
       "      <td>0</td>\n",
       "    </tr>\n",
       "    <tr>\n",
       "      <th>4</th>\n",
       "      <td>5</td>\n",
       "      <td>0</td>\n",
       "      <td>0</td>\n",
       "      <td>0</td>\n",
       "      <td>0</td>\n",
       "      <td>0</td>\n",
       "      <td>1</td>\n",
       "      <td>0</td>\n",
       "      <td>0</td>\n",
       "      <td>0</td>\n",
       "      <td>0</td>\n",
       "      <td>0</td>\n",
       "    </tr>\n",
       "  </tbody>\n",
       "</table>\n",
       "</div>"
      ],
      "text/plain": [
       "   Unnamed: 0  age.65  amnesia.before  basal.skull.fracture  GCS.decrease  \\\n",
       "0           1       0               1                     0             0   \n",
       "1           2       0               0                     0             0   \n",
       "2           3       0               0                     0             0   \n",
       "3           4       0               0                     0             0   \n",
       "4           5       0               0                     0             0   \n",
       "\n",
       "   GCS.13  GCS.15.2hours  high.risk  loss.of.consciousness  \\\n",
       "0       0              0          0                      0   \n",
       "1       0              0          0                      0   \n",
       "2       0              0          0                      0   \n",
       "3       0              1          0                      0   \n",
       "4       0              1          0                      0   \n",
       "\n",
       "   open.skull.fracture  vomiting  clinically.important.brain.injury  \n",
       "0                    0         0                                  0  \n",
       "1                    0         0                                  0  \n",
       "2                    0         0                                  0  \n",
       "3                    0         0                                  0  \n",
       "4                    0         0                                  0  "
      ]
     },
     "execution_count": 2,
     "metadata": {},
     "output_type": "execute_result"
    }
   ],
   "source": [
    "head_injury = pd.read_csv(\"headInjury.csv\")\n",
    "head_injury.head(5)"
   ]
  },
  {
   "cell_type": "code",
   "execution_count": 3,
   "id": "42c8f952",
   "metadata": {},
   "outputs": [
    {
     "data": {
      "text/html": [
       "<div>\n",
       "<style scoped>\n",
       "    .dataframe tbody tr th:only-of-type {\n",
       "        vertical-align: middle;\n",
       "    }\n",
       "\n",
       "    .dataframe tbody tr th {\n",
       "        vertical-align: top;\n",
       "    }\n",
       "\n",
       "    .dataframe thead th {\n",
       "        text-align: right;\n",
       "    }\n",
       "</style>\n",
       "<table border=\"1\" class=\"dataframe\">\n",
       "  <thead>\n",
       "    <tr style=\"text-align: right;\">\n",
       "      <th></th>\n",
       "      <th>age.65</th>\n",
       "      <th>amnesia.before</th>\n",
       "      <th>basal.skull.fracture</th>\n",
       "      <th>GCS.decrease</th>\n",
       "      <th>GCS.13</th>\n",
       "      <th>GCS.15.2hours</th>\n",
       "      <th>high.risk</th>\n",
       "      <th>loss.of.consciousness</th>\n",
       "      <th>open.skull.fracture</th>\n",
       "      <th>vomiting</th>\n",
       "      <th>clinically.important.brain.injury</th>\n",
       "    </tr>\n",
       "  </thead>\n",
       "  <tbody>\n",
       "    <tr>\n",
       "      <th>0</th>\n",
       "      <td>0</td>\n",
       "      <td>1</td>\n",
       "      <td>0</td>\n",
       "      <td>0</td>\n",
       "      <td>0</td>\n",
       "      <td>0</td>\n",
       "      <td>0</td>\n",
       "      <td>0</td>\n",
       "      <td>0</td>\n",
       "      <td>0</td>\n",
       "      <td>0</td>\n",
       "    </tr>\n",
       "    <tr>\n",
       "      <th>1</th>\n",
       "      <td>0</td>\n",
       "      <td>0</td>\n",
       "      <td>0</td>\n",
       "      <td>0</td>\n",
       "      <td>0</td>\n",
       "      <td>0</td>\n",
       "      <td>0</td>\n",
       "      <td>0</td>\n",
       "      <td>0</td>\n",
       "      <td>0</td>\n",
       "      <td>0</td>\n",
       "    </tr>\n",
       "    <tr>\n",
       "      <th>2</th>\n",
       "      <td>0</td>\n",
       "      <td>0</td>\n",
       "      <td>0</td>\n",
       "      <td>0</td>\n",
       "      <td>0</td>\n",
       "      <td>0</td>\n",
       "      <td>0</td>\n",
       "      <td>0</td>\n",
       "      <td>0</td>\n",
       "      <td>0</td>\n",
       "      <td>0</td>\n",
       "    </tr>\n",
       "    <tr>\n",
       "      <th>3</th>\n",
       "      <td>0</td>\n",
       "      <td>0</td>\n",
       "      <td>0</td>\n",
       "      <td>0</td>\n",
       "      <td>0</td>\n",
       "      <td>1</td>\n",
       "      <td>0</td>\n",
       "      <td>0</td>\n",
       "      <td>0</td>\n",
       "      <td>0</td>\n",
       "      <td>0</td>\n",
       "    </tr>\n",
       "    <tr>\n",
       "      <th>4</th>\n",
       "      <td>0</td>\n",
       "      <td>0</td>\n",
       "      <td>0</td>\n",
       "      <td>0</td>\n",
       "      <td>0</td>\n",
       "      <td>1</td>\n",
       "      <td>0</td>\n",
       "      <td>0</td>\n",
       "      <td>0</td>\n",
       "      <td>0</td>\n",
       "      <td>0</td>\n",
       "    </tr>\n",
       "    <tr>\n",
       "      <th>...</th>\n",
       "      <td>...</td>\n",
       "      <td>...</td>\n",
       "      <td>...</td>\n",
       "      <td>...</td>\n",
       "      <td>...</td>\n",
       "      <td>...</td>\n",
       "      <td>...</td>\n",
       "      <td>...</td>\n",
       "      <td>...</td>\n",
       "      <td>...</td>\n",
       "      <td>...</td>\n",
       "    </tr>\n",
       "    <tr>\n",
       "      <th>3116</th>\n",
       "      <td>0</td>\n",
       "      <td>0</td>\n",
       "      <td>0</td>\n",
       "      <td>0</td>\n",
       "      <td>0</td>\n",
       "      <td>1</td>\n",
       "      <td>1</td>\n",
       "      <td>0</td>\n",
       "      <td>0</td>\n",
       "      <td>0</td>\n",
       "      <td>0</td>\n",
       "    </tr>\n",
       "    <tr>\n",
       "      <th>3117</th>\n",
       "      <td>0</td>\n",
       "      <td>0</td>\n",
       "      <td>0</td>\n",
       "      <td>0</td>\n",
       "      <td>0</td>\n",
       "      <td>0</td>\n",
       "      <td>1</td>\n",
       "      <td>0</td>\n",
       "      <td>0</td>\n",
       "      <td>1</td>\n",
       "      <td>0</td>\n",
       "    </tr>\n",
       "    <tr>\n",
       "      <th>3118</th>\n",
       "      <td>0</td>\n",
       "      <td>0</td>\n",
       "      <td>0</td>\n",
       "      <td>0</td>\n",
       "      <td>0</td>\n",
       "      <td>0</td>\n",
       "      <td>0</td>\n",
       "      <td>0</td>\n",
       "      <td>0</td>\n",
       "      <td>0</td>\n",
       "      <td>0</td>\n",
       "    </tr>\n",
       "    <tr>\n",
       "      <th>3119</th>\n",
       "      <td>0</td>\n",
       "      <td>0</td>\n",
       "      <td>0</td>\n",
       "      <td>0</td>\n",
       "      <td>0</td>\n",
       "      <td>0</td>\n",
       "      <td>0</td>\n",
       "      <td>0</td>\n",
       "      <td>0</td>\n",
       "      <td>0</td>\n",
       "      <td>0</td>\n",
       "    </tr>\n",
       "    <tr>\n",
       "      <th>3120</th>\n",
       "      <td>0</td>\n",
       "      <td>1</td>\n",
       "      <td>0</td>\n",
       "      <td>0</td>\n",
       "      <td>0</td>\n",
       "      <td>0</td>\n",
       "      <td>0</td>\n",
       "      <td>0</td>\n",
       "      <td>0</td>\n",
       "      <td>0</td>\n",
       "      <td>0</td>\n",
       "    </tr>\n",
       "  </tbody>\n",
       "</table>\n",
       "<p>3121 rows × 11 columns</p>\n",
       "</div>"
      ],
      "text/plain": [
       "      age.65  amnesia.before  basal.skull.fracture  GCS.decrease  GCS.13  \\\n",
       "0          0               1                     0             0       0   \n",
       "1          0               0                     0             0       0   \n",
       "2          0               0                     0             0       0   \n",
       "3          0               0                     0             0       0   \n",
       "4          0               0                     0             0       0   \n",
       "...      ...             ...                   ...           ...     ...   \n",
       "3116       0               0                     0             0       0   \n",
       "3117       0               0                     0             0       0   \n",
       "3118       0               0                     0             0       0   \n",
       "3119       0               0                     0             0       0   \n",
       "3120       0               1                     0             0       0   \n",
       "\n",
       "      GCS.15.2hours  high.risk  loss.of.consciousness  open.skull.fracture  \\\n",
       "0                 0          0                      0                    0   \n",
       "1                 0          0                      0                    0   \n",
       "2                 0          0                      0                    0   \n",
       "3                 1          0                      0                    0   \n",
       "4                 1          0                      0                    0   \n",
       "...             ...        ...                    ...                  ...   \n",
       "3116              1          1                      0                    0   \n",
       "3117              0          1                      0                    0   \n",
       "3118              0          0                      0                    0   \n",
       "3119              0          0                      0                    0   \n",
       "3120              0          0                      0                    0   \n",
       "\n",
       "      vomiting  clinically.important.brain.injury  \n",
       "0            0                                  0  \n",
       "1            0                                  0  \n",
       "2            0                                  0  \n",
       "3            0                                  0  \n",
       "4            0                                  0  \n",
       "...        ...                                ...  \n",
       "3116         0                                  0  \n",
       "3117         1                                  0  \n",
       "3118         0                                  0  \n",
       "3119         0                                  0  \n",
       "3120         0                                  0  \n",
       "\n",
       "[3121 rows x 11 columns]"
      ]
     },
     "execution_count": 3,
     "metadata": {},
     "output_type": "execute_result"
    }
   ],
   "source": [
    "# drop the first column since it is basically just the index\n",
    "\n",
    "head_injury.drop('Unnamed: 0', axis = 1, inplace=True)\n",
    "head_injury"
   ]
  },
  {
   "cell_type": "code",
   "execution_count": 6,
   "id": "c69850bc",
   "metadata": {},
   "outputs": [
    {
     "data": {
      "text/plain": [
       "age.65                               0\n",
       "amnesia.before                       0\n",
       "basal.skull.fracture                 0\n",
       "GCS.decrease                         0\n",
       "GCS.13                               0\n",
       "GCS.15.2hours                        0\n",
       "high.risk                            0\n",
       "loss.of.consciousness                0\n",
       "open.skull.fracture                  0\n",
       "vomiting                             0\n",
       "clinically.important.brain.injury    0\n",
       "dtype: int64"
      ]
     },
     "execution_count": 6,
     "metadata": {},
     "output_type": "execute_result"
    }
   ],
   "source": [
    "# see if there is any null value\n",
    "\n",
    "head_injury.isnull().sum()"
   ]
  },
  {
   "cell_type": "code",
   "execution_count": 5,
   "id": "2d7ca241",
   "metadata": {},
   "outputs": [
    {
     "data": {
      "text/html": [
       "<div>\n",
       "<style scoped>\n",
       "    .dataframe tbody tr th:only-of-type {\n",
       "        vertical-align: middle;\n",
       "    }\n",
       "\n",
       "    .dataframe tbody tr th {\n",
       "        vertical-align: top;\n",
       "    }\n",
       "\n",
       "    .dataframe thead th {\n",
       "        text-align: right;\n",
       "    }\n",
       "</style>\n",
       "<table border=\"1\" class=\"dataframe\">\n",
       "  <thead>\n",
       "    <tr style=\"text-align: right;\">\n",
       "      <th></th>\n",
       "      <th>age.65</th>\n",
       "      <th>amnesia.before</th>\n",
       "      <th>basal.skull.fracture</th>\n",
       "      <th>GCS.decrease</th>\n",
       "      <th>GCS.13</th>\n",
       "      <th>GCS.15.2hours</th>\n",
       "      <th>high.risk</th>\n",
       "      <th>loss.of.consciousness</th>\n",
       "      <th>open.skull.fracture</th>\n",
       "      <th>vomiting</th>\n",
       "      <th>clinically.important.brain.injury</th>\n",
       "    </tr>\n",
       "  </thead>\n",
       "  <tbody>\n",
       "    <tr>\n",
       "      <th>count</th>\n",
       "      <td>3121.000000</td>\n",
       "      <td>3121.000000</td>\n",
       "      <td>3121.000000</td>\n",
       "      <td>3121.000000</td>\n",
       "      <td>3121.000000</td>\n",
       "      <td>3121.000000</td>\n",
       "      <td>3121.000000</td>\n",
       "      <td>3121.000000</td>\n",
       "      <td>3121.000000</td>\n",
       "      <td>3121.000000</td>\n",
       "      <td>3121.000000</td>\n",
       "    </tr>\n",
       "    <tr>\n",
       "      <th>mean</th>\n",
       "      <td>0.115988</td>\n",
       "      <td>0.204742</td>\n",
       "      <td>0.069849</td>\n",
       "      <td>0.022749</td>\n",
       "      <td>0.037488</td>\n",
       "      <td>0.126562</td>\n",
       "      <td>0.242871</td>\n",
       "      <td>0.111823</td>\n",
       "      <td>0.036847</td>\n",
       "      <td>0.098686</td>\n",
       "      <td>0.080103</td>\n",
       "    </tr>\n",
       "    <tr>\n",
       "      <th>std</th>\n",
       "      <td>0.320262</td>\n",
       "      <td>0.403578</td>\n",
       "      <td>0.254934</td>\n",
       "      <td>0.149127</td>\n",
       "      <td>0.189985</td>\n",
       "      <td>0.332535</td>\n",
       "      <td>0.428886</td>\n",
       "      <td>0.315199</td>\n",
       "      <td>0.188417</td>\n",
       "      <td>0.298288</td>\n",
       "      <td>0.271495</td>\n",
       "    </tr>\n",
       "    <tr>\n",
       "      <th>min</th>\n",
       "      <td>0.000000</td>\n",
       "      <td>0.000000</td>\n",
       "      <td>0.000000</td>\n",
       "      <td>0.000000</td>\n",
       "      <td>0.000000</td>\n",
       "      <td>0.000000</td>\n",
       "      <td>0.000000</td>\n",
       "      <td>0.000000</td>\n",
       "      <td>0.000000</td>\n",
       "      <td>0.000000</td>\n",
       "      <td>0.000000</td>\n",
       "    </tr>\n",
       "    <tr>\n",
       "      <th>25%</th>\n",
       "      <td>0.000000</td>\n",
       "      <td>0.000000</td>\n",
       "      <td>0.000000</td>\n",
       "      <td>0.000000</td>\n",
       "      <td>0.000000</td>\n",
       "      <td>0.000000</td>\n",
       "      <td>0.000000</td>\n",
       "      <td>0.000000</td>\n",
       "      <td>0.000000</td>\n",
       "      <td>0.000000</td>\n",
       "      <td>0.000000</td>\n",
       "    </tr>\n",
       "    <tr>\n",
       "      <th>50%</th>\n",
       "      <td>0.000000</td>\n",
       "      <td>0.000000</td>\n",
       "      <td>0.000000</td>\n",
       "      <td>0.000000</td>\n",
       "      <td>0.000000</td>\n",
       "      <td>0.000000</td>\n",
       "      <td>0.000000</td>\n",
       "      <td>0.000000</td>\n",
       "      <td>0.000000</td>\n",
       "      <td>0.000000</td>\n",
       "      <td>0.000000</td>\n",
       "    </tr>\n",
       "    <tr>\n",
       "      <th>75%</th>\n",
       "      <td>0.000000</td>\n",
       "      <td>0.000000</td>\n",
       "      <td>0.000000</td>\n",
       "      <td>0.000000</td>\n",
       "      <td>0.000000</td>\n",
       "      <td>0.000000</td>\n",
       "      <td>0.000000</td>\n",
       "      <td>0.000000</td>\n",
       "      <td>0.000000</td>\n",
       "      <td>0.000000</td>\n",
       "      <td>0.000000</td>\n",
       "    </tr>\n",
       "    <tr>\n",
       "      <th>max</th>\n",
       "      <td>1.000000</td>\n",
       "      <td>1.000000</td>\n",
       "      <td>1.000000</td>\n",
       "      <td>1.000000</td>\n",
       "      <td>1.000000</td>\n",
       "      <td>1.000000</td>\n",
       "      <td>1.000000</td>\n",
       "      <td>1.000000</td>\n",
       "      <td>1.000000</td>\n",
       "      <td>1.000000</td>\n",
       "      <td>1.000000</td>\n",
       "    </tr>\n",
       "  </tbody>\n",
       "</table>\n",
       "</div>"
      ],
      "text/plain": [
       "            age.65  amnesia.before  basal.skull.fracture  GCS.decrease  \\\n",
       "count  3121.000000     3121.000000           3121.000000   3121.000000   \n",
       "mean      0.115988        0.204742              0.069849      0.022749   \n",
       "std       0.320262        0.403578              0.254934      0.149127   \n",
       "min       0.000000        0.000000              0.000000      0.000000   \n",
       "25%       0.000000        0.000000              0.000000      0.000000   \n",
       "50%       0.000000        0.000000              0.000000      0.000000   \n",
       "75%       0.000000        0.000000              0.000000      0.000000   \n",
       "max       1.000000        1.000000              1.000000      1.000000   \n",
       "\n",
       "            GCS.13  GCS.15.2hours    high.risk  loss.of.consciousness  \\\n",
       "count  3121.000000    3121.000000  3121.000000            3121.000000   \n",
       "mean      0.037488       0.126562     0.242871               0.111823   \n",
       "std       0.189985       0.332535     0.428886               0.315199   \n",
       "min       0.000000       0.000000     0.000000               0.000000   \n",
       "25%       0.000000       0.000000     0.000000               0.000000   \n",
       "50%       0.000000       0.000000     0.000000               0.000000   \n",
       "75%       0.000000       0.000000     0.000000               0.000000   \n",
       "max       1.000000       1.000000     1.000000               1.000000   \n",
       "\n",
       "       open.skull.fracture     vomiting  clinically.important.brain.injury  \n",
       "count          3121.000000  3121.000000                        3121.000000  \n",
       "mean              0.036847     0.098686                           0.080103  \n",
       "std               0.188417     0.298288                           0.271495  \n",
       "min               0.000000     0.000000                           0.000000  \n",
       "25%               0.000000     0.000000                           0.000000  \n",
       "50%               0.000000     0.000000                           0.000000  \n",
       "75%               0.000000     0.000000                           0.000000  \n",
       "max               1.000000     1.000000                           1.000000  "
      ]
     },
     "execution_count": 5,
     "metadata": {},
     "output_type": "execute_result"
    }
   ],
   "source": [
    "head_injury.describe()"
   ]
  },
  {
   "cell_type": "markdown",
   "id": "9eaa0854",
   "metadata": {},
   "source": [
    "It looks like all variables' values are binary (0, 1). We will not need to standarize or normalize the data. "
   ]
  },
  {
   "cell_type": "code",
   "execution_count": 132,
   "id": "1046558e",
   "metadata": {},
   "outputs": [
    {
     "data": {
      "text/plain": [
       "age.65                               int64\n",
       "amnesia.before                       int64\n",
       "basal.skull.fracture                 int64\n",
       "GCS.decrease                         int64\n",
       "GCS.13                               int64\n",
       "GCS.15.2hours                        int64\n",
       "high.risk                            int64\n",
       "loss.of.consciousness                int64\n",
       "open.skull.fracture                  int64\n",
       "vomiting                             int64\n",
       "clinically.important.brain.injury    int64\n",
       "dtype: object"
      ]
     },
     "execution_count": 132,
     "metadata": {},
     "output_type": "execute_result"
    }
   ],
   "source": [
    "## Let's double check their data types to make sure that they are all numeric\n",
    "head_injury.dtypes"
   ]
  },
  {
   "cell_type": "code",
   "execution_count": 113,
   "id": "e5652173",
   "metadata": {},
   "outputs": [
    {
     "data": {
      "text/html": [
       "<div>\n",
       "<style scoped>\n",
       "    .dataframe tbody tr th:only-of-type {\n",
       "        vertical-align: middle;\n",
       "    }\n",
       "\n",
       "    .dataframe tbody tr th {\n",
       "        vertical-align: top;\n",
       "    }\n",
       "\n",
       "    .dataframe thead th {\n",
       "        text-align: right;\n",
       "    }\n",
       "</style>\n",
       "<table border=\"1\" class=\"dataframe\">\n",
       "  <thead>\n",
       "    <tr style=\"text-align: right;\">\n",
       "      <th></th>\n",
       "      <th>age.65</th>\n",
       "      <th>amnesia.before</th>\n",
       "      <th>basal.skull.fracture</th>\n",
       "      <th>GCS.decrease</th>\n",
       "      <th>GCS.13</th>\n",
       "      <th>GCS.15.2hours</th>\n",
       "      <th>high.risk</th>\n",
       "      <th>loss.of.consciousness</th>\n",
       "      <th>open.skull.fracture</th>\n",
       "      <th>vomiting</th>\n",
       "      <th>clinically.important.brain.injury</th>\n",
       "    </tr>\n",
       "  </thead>\n",
       "  <tbody>\n",
       "    <tr>\n",
       "      <th>0</th>\n",
       "      <td>2759</td>\n",
       "      <td>2482</td>\n",
       "      <td>2903</td>\n",
       "      <td>3050</td>\n",
       "      <td>3004</td>\n",
       "      <td>2726</td>\n",
       "      <td>2363</td>\n",
       "      <td>2772</td>\n",
       "      <td>3006</td>\n",
       "      <td>2813</td>\n",
       "      <td>2871</td>\n",
       "    </tr>\n",
       "    <tr>\n",
       "      <th>1</th>\n",
       "      <td>362</td>\n",
       "      <td>639</td>\n",
       "      <td>218</td>\n",
       "      <td>71</td>\n",
       "      <td>117</td>\n",
       "      <td>395</td>\n",
       "      <td>758</td>\n",
       "      <td>349</td>\n",
       "      <td>115</td>\n",
       "      <td>308</td>\n",
       "      <td>250</td>\n",
       "    </tr>\n",
       "  </tbody>\n",
       "</table>\n",
       "</div>"
      ],
      "text/plain": [
       "   age.65  amnesia.before  basal.skull.fracture  GCS.decrease  GCS.13  \\\n",
       "0    2759            2482                  2903          3050    3004   \n",
       "1     362             639                   218            71     117   \n",
       "\n",
       "   GCS.15.2hours  high.risk  loss.of.consciousness  open.skull.fracture  \\\n",
       "0           2726       2363                   2772                 3006   \n",
       "1            395        758                    349                  115   \n",
       "\n",
       "   vomiting  clinically.important.brain.injury  \n",
       "0      2813                               2871  \n",
       "1       308                                250  "
      ]
     },
     "execution_count": 113,
     "metadata": {},
     "output_type": "execute_result"
    }
   ],
   "source": [
    "## creating a table\n",
    "\n",
    "head_injury.apply(pd.value_counts)"
   ]
  },
  {
   "cell_type": "code",
   "execution_count": 12,
   "id": "97c1ad47",
   "metadata": {},
   "outputs": [
    {
     "data": {
      "image/png": "[encoded data removed]",
      "text/plain": [
       "<Figure size 432x288 with 1 Axes>"
      ]
     },
     "metadata": {
      "needs_background": "light"
     },
     "output_type": "display_data"
    },
    {
     "data": {
      "image/png": "[encoded data removed]",
      "text/plain": [
       "<Figure size 432x288 with 1 Axes>"
      ]
     },
     "metadata": {
      "needs_background": "light"
     },
     "output_type": "display_data"
    },
    {
     "data": {
      "image/png": "[encoded data removed]",
      "text/plain": [
       "<Figure size 432x288 with 1 Axes>"
      ]
     },
     "metadata": {
      "needs_background": "light"
     },
     "output_type": "display_data"
    },
    {
     "data": {
      "image/png": "[encoded data removed]",
      "text/plain": [
       "<Figure size 432x288 with 1 Axes>"
      ]
     },
     "metadata": {
      "needs_background": "light"
     },
     "output_type": "display_data"
    },
    {
     "data": {
      "image/png": "[encoded data removed]",
      "text/plain": [
       "<Figure size 432x288 with 1 Axes>"
      ]
     },
     "metadata": {
      "needs_background": "light"
     },
     "output_type": "display_data"
    },
    {
     "data": {
      "image/png": "[encoded data removed]",
      "text/plain": [
       "<Figure size 432x288 with 1 Axes>"
      ]
     },
     "metadata": {
      "needs_background": "light"
     },
     "output_type": "display_data"
    },
    {
     "data": {
      "image/png": "[encoded data removed]",
      "text/plain": [
       "<Figure size 432x288 with 1 Axes>"
      ]
     },
     "metadata": {
      "needs_background": "light"
     },
     "output_type": "display_data"
    },
    {
     "data": {
      "image/png": "[encoded data removed]",
      "text/plain": [
       "<Figure size 432x288 with 1 Axes>"
      ]
     },
     "metadata": {
      "needs_background": "light"
     },
     "output_type": "display_data"
    },
    {
     "data": {
      "image/png": "[encoded data removed]",
      "text/plain": [
       "<Figure size 432x288 with 1 Axes>"
      ]
     },
     "metadata": {
      "needs_background": "light"
     },
     "output_type": "display_data"
    },
    {
     "data": {
      "image/png": "[encoded data removed]",
      "text/plain": [
       "<Figure size 432x288 with 1 Axes>"
      ]
     },
     "metadata": {
      "needs_background": "light"
     },
     "output_type": "display_data"
    },
    {
     "data": {
      "image/png": "[encoded data removed]",
      "text/plain": [
       "<Figure size 432x288 with 1 Axes>"
      ]
     },
     "metadata": {
      "needs_background": "light"
     },
     "output_type": "display_data"
    }
   ],
   "source": [
    "# Check for distribution of all variables\n",
    "\n",
    "for i, col in enumerate(head_injury.columns):\n",
    "    plt.figure(i)\n",
    "    sns.countplot(x=head_injury[col])"
   ]
  },
  {
   "cell_type": "code",
   "execution_count": 16,
   "id": "f2f75b49",
   "metadata": {},
   "outputs": [
    {
     "data": {
      "text/plain": [
       "<AxesSubplot:xlabel='age.65', ylabel='count'>"
      ]
     },
     "execution_count": 16,
     "metadata": {},
     "output_type": "execute_result"
    },
    {
     "data": {
      "image/png": "[encoded data removed]",
      "text/plain": [
       "<Figure size 432x288 with 1 Axes>"
      ]
     },
     "metadata": {
      "needs_background": "light"
     },
     "output_type": "display_data"
    }
   ],
   "source": [
    "# Grouped bar chart - let's do each input variable to the output variable\n",
    "\n",
    "sns.countplot(x = 'age.65', hue = 'clinically.important.brain.injury', data = head_injury)"
   ]
  },
  {
   "cell_type": "code",
   "execution_count": 17,
   "id": "55239665",
   "metadata": {},
   "outputs": [
    {
     "data": {
      "text/plain": [
       "<AxesSubplot:xlabel='amnesia.before', ylabel='count'>"
      ]
     },
     "execution_count": 17,
     "metadata": {},
     "output_type": "execute_result"
    },
    {
     "data": {
      "image/png": "[encoded data removed]",
      "text/plain": [
       "<Figure size 432x288 with 1 Axes>"
      ]
     },
     "metadata": {
      "needs_background": "light"
     },
     "output_type": "display_data"
    }
   ],
   "source": [
    "sns.countplot(x = 'amnesia.before', hue = 'clinically.important.brain.injury', data = head_injury)"
   ]
  },
  {
   "cell_type": "code",
   "execution_count": 18,
   "id": "7e1072a5",
   "metadata": {},
   "outputs": [
    {
     "data": {
      "text/plain": [
       "<AxesSubplot:xlabel='basal.skull.fracture', ylabel='count'>"
      ]
     },
     "execution_count": 18,
     "metadata": {},
     "output_type": "execute_result"
    },
    {
     "data": {
      "image/png": "[encoded data removed]",
      "text/plain": [
       "<Figure size 432x288 with 1 Axes>"
      ]
     },
     "metadata": {
      "needs_background": "light"
     },
     "output_type": "display_data"
    }
   ],
   "source": [
    "sns.countplot(x = 'basal.skull.fracture', hue = 'clinically.important.brain.injury', data = head_injury)"
   ]
  },
  {
   "cell_type": "code",
   "execution_count": 19,
   "id": "a017e141",
   "metadata": {},
   "outputs": [
    {
     "data": {
      "text/plain": [
       "<AxesSubplot:xlabel='GCS.decrease', ylabel='count'>"
      ]
     },
     "execution_count": 19,
     "metadata": {},
     "output_type": "execute_result"
    },
    {
     "data": {
      "image/png": "[encoded data removed]",
      "text/plain": [
       "<Figure size 432x288 with 1 Axes>"
      ]
     },
     "metadata": {
      "needs_background": "light"
     },
     "output_type": "display_data"
    }
   ],
   "source": [
    "sns.countplot(x = 'GCS.decrease', hue = 'clinically.important.brain.injury', data = head_injury)"
   ]
  },
  {
   "cell_type": "code",
   "execution_count": 20,
   "id": "bc05b9ef",
   "metadata": {},
   "outputs": [
    {
     "data": {
      "text/plain": [
       "<AxesSubplot:xlabel='GCS.13', ylabel='count'>"
      ]
     },
     "execution_count": 20,
     "metadata": {},
     "output_type": "execute_result"
    },
    {
     "data": {
      "image/png": "[encoded data removed]",
      "text/plain": [
       "<Figure size 432x288 with 1 Axes>"
      ]
     },
     "metadata": {
      "needs_background": "light"
     },
     "output_type": "display_data"
    }
   ],
   "source": [
    "sns.countplot(x = 'GCS.13', hue = 'clinically.important.brain.injury', data = head_injury)"
   ]
  },
  {
   "cell_type": "code",
   "execution_count": 21,
   "id": "cd4339ea",
   "metadata": {},
   "outputs": [
    {
     "data": {
      "text/plain": [
       "<AxesSubplot:xlabel='GCS.15.2hours', ylabel='count'>"
      ]
     },
     "execution_count": 21,
     "metadata": {},
     "output_type": "execute_result"
    },
    {
     "data": {
      "image/png": "[encoded data removed]",
      "text/plain": [
       "<Figure size 432x288 with 1 Axes>"
      ]
     },
     "metadata": {
      "needs_background": "light"
     },
     "output_type": "display_data"
    }
   ],
   "source": [
    "sns.countplot(x = 'GCS.15.2hours', hue = 'clinically.important.brain.injury', data = head_injury)"
   ]
  },
  {
   "cell_type": "code",
   "execution_count": 22,
   "id": "3c25a177",
   "metadata": {},
   "outputs": [
    {
     "data": {
      "text/plain": [
       "<AxesSubplot:xlabel='high.risk', ylabel='count'>"
      ]
     },
     "execution_count": 22,
     "metadata": {},
     "output_type": "execute_result"
    },
    {
     "data": {
      "image/png": "[encoded data removed]",
      "text/plain": [
       "<Figure size 432x288 with 1 Axes>"
      ]
     },
     "metadata": {
      "needs_background": "light"
     },
     "output_type": "display_data"
    }
   ],
   "source": [
    "sns.countplot(x = 'high.risk', hue = 'clinically.important.brain.injury', data = head_injury)"
   ]
  },
  {
   "cell_type": "code",
   "execution_count": 23,
   "id": "6d9b739e",
   "metadata": {},
   "outputs": [
    {
     "data": {
      "text/plain": [
       "<AxesSubplot:xlabel='loss.of.consciousness', ylabel='count'>"
      ]
     },
     "execution_count": 23,
     "metadata": {},
     "output_type": "execute_result"
    },
    {
     "data": {
      "image/png": "[encoded data removed]",
      "text/plain": [
       "<Figure size 432x288 with 1 Axes>"
      ]
     },
     "metadata": {
      "needs_background": "light"
     },
     "output_type": "display_data"
    }
   ],
   "source": [
    "sns.countplot(x = 'loss.of.consciousness', hue = 'clinically.important.brain.injury', data = head_injury)"
   ]
  },
  {
   "cell_type": "code",
   "execution_count": 24,
   "id": "16a2ea7f",
   "metadata": {},
   "outputs": [
    {
     "data": {
      "text/plain": [
       "<AxesSubplot:xlabel='open.skull.fracture', ylabel='count'>"
      ]
     },
     "execution_count": 24,
     "metadata": {},
     "output_type": "execute_result"
    },
    {
     "data": {
      "image/png": "[encoded data removed]",
      "text/plain": [
       "<Figure size 432x288 with 1 Axes>"
      ]
     },
     "metadata": {
      "needs_background": "light"
     },
     "output_type": "display_data"
    }
   ],
   "source": [
    "sns.countplot(x = 'open.skull.fracture', hue = 'clinically.important.brain.injury', data = head_injury)"
   ]
  },
  {
   "cell_type": "code",
   "execution_count": 25,
   "id": "6d228550",
   "metadata": {},
   "outputs": [
    {
     "data": {
      "text/plain": [
       "<AxesSubplot:xlabel='vomiting', ylabel='count'>"
      ]
     },
     "execution_count": 25,
     "metadata": {},
     "output_type": "execute_result"
    },
    {
     "data": {
      "image/png": "[encoded data removed]",
      "text/plain": [
       "<Figure size 432x288 with 1 Axes>"
      ]
     },
     "metadata": {
      "needs_background": "light"
     },
     "output_type": "display_data"
    }
   ],
   "source": [
    "sns.countplot(x = 'vomiting', hue = 'clinically.important.brain.injury', data = head_injury)"
   ]
  },
  {
   "cell_type": "code",
   "execution_count": 26,
   "id": "3b8fc379",
   "metadata": {},
   "outputs": [
    {
     "data": {
      "text/plain": [
       "<AxesSubplot:xlabel='GCS.13', ylabel='count'>"
      ]
     },
     "execution_count": 26,
     "metadata": {},
     "output_type": "execute_result"
    },
    {
     "data": {
      "image/png": "[encoded data removed]",
      "text/plain": [
       "<Figure size 432x288 with 1 Axes>"
      ]
     },
     "metadata": {
      "needs_background": "light"
     },
     "output_type": "display_data"
    }
   ],
   "source": [
    "# Now let's compare some interesting input variables to each other\n",
    "\n",
    "sns.countplot(x = 'GCS.13', hue = 'GCS.15.2hours', data = head_injury)"
   ]
  },
  {
   "cell_type": "code",
   "execution_count": 27,
   "id": "fb0531e5",
   "metadata": {},
   "outputs": [
    {
     "data": {
      "text/plain": [
       "<AxesSubplot:xlabel='basal.skull.fracture', ylabel='count'>"
      ]
     },
     "execution_count": 27,
     "metadata": {},
     "output_type": "execute_result"
    },
    {
     "data": {
      "image/png": "[encoded data removed]",
      "text/plain": [
       "<Figure size 432x288 with 1 Axes>"
      ]
     },
     "metadata": {
      "needs_background": "light"
     },
     "output_type": "display_data"
    }
   ],
   "source": [
    "sns.countplot(x = 'basal.skull.fracture', hue = 'open.skull.fracture', data = head_injury)"
   ]
  },
  {
   "cell_type": "code",
   "execution_count": 28,
   "id": "8534ea19",
   "metadata": {},
   "outputs": [
    {
     "data": {
      "text/plain": [
       "<AxesSubplot:xlabel='high.risk', ylabel='count'>"
      ]
     },
     "execution_count": 28,
     "metadata": {},
     "output_type": "execute_result"
    },
    {
     "data": {
      "image/png": "[encoded data removed]",
      "text/plain": [
       "<Figure size 432x288 with 1 Axes>"
      ]
     },
     "metadata": {
      "needs_background": "light"
     },
     "output_type": "display_data"
    }
   ],
   "source": [
    "sns.countplot(x = \"high.risk\", hue = \"age.65\", data = head_injury)"
   ]
  },
  {
   "cell_type": "code",
   "execution_count": 29,
   "id": "3aa08c09",
   "metadata": {},
   "outputs": [
    {
     "data": {
      "text/html": [
       "<div>\n",
       "<style scoped>\n",
       "    .dataframe tbody tr th:only-of-type {\n",
       "        vertical-align: middle;\n",
       "    }\n",
       "\n",
       "    .dataframe tbody tr th {\n",
       "        vertical-align: top;\n",
       "    }\n",
       "\n",
       "    .dataframe thead th {\n",
       "        text-align: right;\n",
       "    }\n",
       "</style>\n",
       "<table border=\"1\" class=\"dataframe\">\n",
       "  <thead>\n",
       "    <tr style=\"text-align: right;\">\n",
       "      <th></th>\n",
       "      <th>age.65</th>\n",
       "      <th>amnesia.before</th>\n",
       "      <th>basal.skull.fracture</th>\n",
       "      <th>GCS.decrease</th>\n",
       "      <th>GCS.13</th>\n",
       "      <th>GCS.15.2hours</th>\n",
       "      <th>high.risk</th>\n",
       "      <th>loss.of.consciousness</th>\n",
       "      <th>open.skull.fracture</th>\n",
       "      <th>vomiting</th>\n",
       "      <th>clinically.important.brain.injury</th>\n",
       "    </tr>\n",
       "  </thead>\n",
       "  <tbody>\n",
       "    <tr>\n",
       "      <th>age.65</th>\n",
       "      <td>1.000000</td>\n",
       "      <td>0.051786</td>\n",
       "      <td>0.026359</td>\n",
       "      <td>0.085664</td>\n",
       "      <td>0.007529</td>\n",
       "      <td>0.075794</td>\n",
       "      <td>0.049191</td>\n",
       "      <td>0.046102</td>\n",
       "      <td>0.061940</td>\n",
       "      <td>0.031120</td>\n",
       "      <td>0.191692</td>\n",
       "    </tr>\n",
       "    <tr>\n",
       "      <th>amnesia.before</th>\n",
       "      <td>0.051786</td>\n",
       "      <td>1.000000</td>\n",
       "      <td>-0.014435</td>\n",
       "      <td>0.029095</td>\n",
       "      <td>0.037811</td>\n",
       "      <td>0.057621</td>\n",
       "      <td>0.012602</td>\n",
       "      <td>0.003893</td>\n",
       "      <td>0.027206</td>\n",
       "      <td>0.031788</td>\n",
       "      <td>0.101839</td>\n",
       "    </tr>\n",
       "    <tr>\n",
       "      <th>basal.skull.fracture</th>\n",
       "      <td>0.026359</td>\n",
       "      <td>-0.014435</td>\n",
       "      <td>1.000000</td>\n",
       "      <td>0.152095</td>\n",
       "      <td>0.111358</td>\n",
       "      <td>0.092287</td>\n",
       "      <td>0.044130</td>\n",
       "      <td>0.006472</td>\n",
       "      <td>0.013127</td>\n",
       "      <td>0.048413</td>\n",
       "      <td>0.243291</td>\n",
       "    </tr>\n",
       "    <tr>\n",
       "      <th>GCS.decrease</th>\n",
       "      <td>0.085664</td>\n",
       "      <td>0.029095</td>\n",
       "      <td>0.152095</td>\n",
       "      <td>1.000000</td>\n",
       "      <td>0.071705</td>\n",
       "      <td>0.116430</td>\n",
       "      <td>0.068936</td>\n",
       "      <td>0.020869</td>\n",
       "      <td>0.050007</td>\n",
       "      <td>0.072005</td>\n",
       "      <td>0.113305</td>\n",
       "    </tr>\n",
       "    <tr>\n",
       "      <th>GCS.13</th>\n",
       "      <td>0.007529</td>\n",
       "      <td>0.037811</td>\n",
       "      <td>0.111358</td>\n",
       "      <td>0.071705</td>\n",
       "      <td>1.000000</td>\n",
       "      <td>0.112588</td>\n",
       "      <td>0.045567</td>\n",
       "      <td>0.004906</td>\n",
       "      <td>0.024076</td>\n",
       "      <td>0.047812</td>\n",
       "      <td>0.153036</td>\n",
       "    </tr>\n",
       "    <tr>\n",
       "      <th>GCS.15.2hours</th>\n",
       "      <td>0.075794</td>\n",
       "      <td>0.057621</td>\n",
       "      <td>0.092287</td>\n",
       "      <td>0.116430</td>\n",
       "      <td>0.112588</td>\n",
       "      <td>1.000000</td>\n",
       "      <td>0.081052</td>\n",
       "      <td>0.045348</td>\n",
       "      <td>0.038087</td>\n",
       "      <td>0.042067</td>\n",
       "      <td>0.310139</td>\n",
       "    </tr>\n",
       "    <tr>\n",
       "      <th>high.risk</th>\n",
       "      <td>0.049191</td>\n",
       "      <td>0.012602</td>\n",
       "      <td>0.044130</td>\n",
       "      <td>0.068936</td>\n",
       "      <td>0.045567</td>\n",
       "      <td>0.081052</td>\n",
       "      <td>1.000000</td>\n",
       "      <td>0.055096</td>\n",
       "      <td>0.035974</td>\n",
       "      <td>0.115736</td>\n",
       "      <td>0.193458</td>\n",
       "    </tr>\n",
       "    <tr>\n",
       "      <th>loss.of.consciousness</th>\n",
       "      <td>0.046102</td>\n",
       "      <td>0.003893</td>\n",
       "      <td>0.006472</td>\n",
       "      <td>0.020869</td>\n",
       "      <td>0.004906</td>\n",
       "      <td>0.045348</td>\n",
       "      <td>0.055096</td>\n",
       "      <td>1.000000</td>\n",
       "      <td>-0.004639</td>\n",
       "      <td>0.015540</td>\n",
       "      <td>0.116273</td>\n",
       "    </tr>\n",
       "    <tr>\n",
       "      <th>open.skull.fracture</th>\n",
       "      <td>0.061940</td>\n",
       "      <td>0.027206</td>\n",
       "      <td>0.013127</td>\n",
       "      <td>0.050007</td>\n",
       "      <td>0.024076</td>\n",
       "      <td>0.038087</td>\n",
       "      <td>0.035974</td>\n",
       "      <td>-0.004639</td>\n",
       "      <td>1.000000</td>\n",
       "      <td>0.032227</td>\n",
       "      <td>0.073860</td>\n",
       "    </tr>\n",
       "    <tr>\n",
       "      <th>vomiting</th>\n",
       "      <td>0.031120</td>\n",
       "      <td>0.031788</td>\n",
       "      <td>0.048413</td>\n",
       "      <td>0.072005</td>\n",
       "      <td>0.047812</td>\n",
       "      <td>0.042067</td>\n",
       "      <td>0.115736</td>\n",
       "      <td>0.015540</td>\n",
       "      <td>0.032227</td>\n",
       "      <td>1.000000</td>\n",
       "      <td>0.171482</td>\n",
       "    </tr>\n",
       "    <tr>\n",
       "      <th>clinically.important.brain.injury</th>\n",
       "      <td>0.191692</td>\n",
       "      <td>0.101839</td>\n",
       "      <td>0.243291</td>\n",
       "      <td>0.113305</td>\n",
       "      <td>0.153036</td>\n",
       "      <td>0.310139</td>\n",
       "      <td>0.193458</td>\n",
       "      <td>0.116273</td>\n",
       "      <td>0.073860</td>\n",
       "      <td>0.171482</td>\n",
       "      <td>1.000000</td>\n",
       "    </tr>\n",
       "  </tbody>\n",
       "</table>\n",
       "</div>"
      ],
      "text/plain": [
       "                                     age.65  amnesia.before  \\\n",
       "age.65                             1.000000        0.051786   \n",
       "amnesia.before                     0.051786        1.000000   \n",
       "basal.skull.fracture               0.026359       -0.014435   \n",
       "GCS.decrease                       0.085664        0.029095   \n",
       "GCS.13                             0.007529        0.037811   \n",
       "GCS.15.2hours                      0.075794        0.057621   \n",
       "high.risk                          0.049191        0.012602   \n",
       "loss.of.consciousness              0.046102        0.003893   \n",
       "open.skull.fracture                0.061940        0.027206   \n",
       "vomiting                           0.031120        0.031788   \n",
       "clinically.important.brain.injury  0.191692        0.101839   \n",
       "\n",
       "                                   basal.skull.fracture  GCS.decrease  \\\n",
       "age.65                                         0.026359      0.085664   \n",
       "amnesia.before                                -0.014435      0.029095   \n",
       "basal.skull.fracture                           1.000000      0.152095   \n",
       "GCS.decrease                                   0.152095      1.000000   \n",
       "GCS.13                                         0.111358      0.071705   \n",
       "GCS.15.2hours                                  0.092287      0.116430   \n",
       "high.risk                                      0.044130      0.068936   \n",
       "loss.of.consciousness                          0.006472      0.020869   \n",
       "open.skull.fracture                            0.013127      0.050007   \n",
       "vomiting                                       0.048413      0.072005   \n",
       "clinically.important.brain.injury              0.243291      0.113305   \n",
       "\n",
       "                                     GCS.13  GCS.15.2hours  high.risk  \\\n",
       "age.65                             0.007529       0.075794   0.049191   \n",
       "amnesia.before                     0.037811       0.057621   0.012602   \n",
       "basal.skull.fracture               0.111358       0.092287   0.044130   \n",
       "GCS.decrease                       0.071705       0.116430   0.068936   \n",
       "GCS.13                             1.000000       0.112588   0.045567   \n",
       "GCS.15.2hours                      0.112588       1.000000   0.081052   \n",
       "high.risk                          0.045567       0.081052   1.000000   \n",
       "loss.of.consciousness              0.004906       0.045348   0.055096   \n",
       "open.skull.fracture                0.024076       0.038087   0.035974   \n",
       "vomiting                           0.047812       0.042067   0.115736   \n",
       "clinically.important.brain.injury  0.153036       0.310139   0.193458   \n",
       "\n",
       "                                   loss.of.consciousness  open.skull.fracture  \\\n",
       "age.65                                          0.046102             0.061940   \n",
       "amnesia.before                                  0.003893             0.027206   \n",
       "basal.skull.fracture                            0.006472             0.013127   \n",
       "GCS.decrease                                    0.020869             0.050007   \n",
       "GCS.13                                          0.004906             0.024076   \n",
       "GCS.15.2hours                                   0.045348             0.038087   \n",
       "high.risk                                       0.055096             0.035974   \n",
       "loss.of.consciousness                           1.000000            -0.004639   \n",
       "open.skull.fracture                            -0.004639             1.000000   \n",
       "vomiting                                        0.015540             0.032227   \n",
       "clinically.important.brain.injury               0.116273             0.073860   \n",
       "\n",
       "                                   vomiting  clinically.important.brain.injury  \n",
       "age.65                             0.031120                           0.191692  \n",
       "amnesia.before                     0.031788                           0.101839  \n",
       "basal.skull.fracture               0.048413                           0.243291  \n",
       "GCS.decrease                       0.072005                           0.113305  \n",
       "GCS.13                             0.047812                           0.153036  \n",
       "GCS.15.2hours                      0.042067                           0.310139  \n",
       "high.risk                          0.115736                           0.193458  \n",
       "loss.of.consciousness              0.015540                           0.116273  \n",
       "open.skull.fracture                0.032227                           0.073860  \n",
       "vomiting                           1.000000                           0.171482  \n",
       "clinically.important.brain.injury  0.171482                           1.000000  "
      ]
     },
     "execution_count": 29,
     "metadata": {},
     "output_type": "execute_result"
    }
   ],
   "source": [
    "## correlation between variables\n",
    "head_injury.corr()"
   ]
  },
  {
   "cell_type": "code",
   "execution_count": 34,
   "id": "5bc7dacb",
   "metadata": {},
   "outputs": [
    {
     "data": {
      "image/png": "[encoded data removed]",
      "text/plain": [
       "<Figure size 432x288 with 2 Axes>"
      ]
     },
     "metadata": {
      "needs_background": "light"
     },
     "output_type": "display_data"
    }
   ],
   "source": [
    "## plotting correlation heatmap\n",
    "hmap = sns.heatmap(head_injury.corr())\n",
    "plt.show()"
   ]
  },
  {
   "cell_type": "markdown",
   "id": "f9dfafd9",
   "metadata": {},
   "source": [
    "# Now let's split the data up in training and test sets"
   ]
  },
  {
   "cell_type": "code",
   "execution_count": 36,
   "id": "5f71492b",
   "metadata": {},
   "outputs": [
    {
     "name": "stdout",
     "output_type": "stream",
     "text": [
      "Shape of X_train is  (2184, 10)\n",
      "Shape of y_train is  (2184, 1)\n",
      "Shape of X_test is  (937, 10)\n",
      "Shape of y_test is  (937, 1)\n"
     ]
    }
   ],
   "source": [
    "# grabbing all input variables\n",
    "X = head_injury.drop('clinically.important.brain.injury', axis =1)\n",
    "\n",
    "# grabbing just the traget variable\n",
    "y = head_injury[['clinically.important.brain.injury']]\n",
    "\n",
    "# splitting the dataset\n",
    "X_train, X_test, y_train, y_test = train_test_split(X, y, test_size = 0.3, random_state=42)\n",
    "\n",
    "# getting the shape of each set\n",
    "print(\"Shape of X_train is \", X_train.shape)\n",
    "print(\"Shape of y_train is \", y_train.shape)\n",
    "print(\"Shape of X_test is \", X_test.shape)\n",
    "print(\"Shape of y_test is \", y_test.shape)"
   ]
  },
  {
   "cell_type": "markdown",
   "id": "a6cecae7",
   "metadata": {},
   "source": [
    "## Testing of Algorithms\n",
    "\n",
    "### Random Forest"
   ]
  },
  {
   "cell_type": "code",
   "execution_count": 38,
   "id": "a5c42704",
   "metadata": {},
   "outputs": [],
   "source": [
    "clf_rf = RandomForestClassifier(max_depth=None, random_state=0)\n",
    "\n",
    "forest_model = clf_rf.fit(X_train, y_train.values.ravel())\n",
    "\n",
    "y_forest_train_pred = forest_model.predict(X_train)\n",
    "\n",
    "y_forest_test_pred = forest_model.predict(X_test)"
   ]
  },
  {
   "cell_type": "code",
   "execution_count": 89,
   "id": "2df53903",
   "metadata": {},
   "outputs": [
    {
     "name": "stdout",
     "output_type": "stream",
     "text": [
      "The accuracy of the random forest classifier on the training set is  0.9523809523809523\n",
      "The accuracy of the random forest classifier on the test set is  0.9156883671291356\n"
     ]
    }
   ],
   "source": [
    "## Accuracy Score\n",
    "accuracy_training = accuracy_score(y_train, y_forest_train_pred)\n",
    "print(\"The accuracy of the random forest classifier on the training set is \", accuracy_training)\n",
    "\n",
    "accuracy_test = accuracy_score(y_test, y_forest_test_pred)\n",
    "print(\"The accuracy of the random forest classifier on the test set is \", accuracy_test)"
   ]
  },
  {
   "cell_type": "code",
   "execution_count": 96,
   "id": "27e967d5",
   "metadata": {},
   "outputs": [
    {
     "name": "stdout",
     "output_type": "stream",
     "text": [
      "The F1 score of the random forest classifier on the training set is  0.5478260869565218\n",
      "The F1 score of the random forest classifier on the test set is  0.34710743801652894\n"
     ]
    }
   ],
   "source": [
    "## F1 Score for the random forest\n",
    "random_f1_training = f1_score(y_train, y_forest_train_pred)\n",
    "print(\"The F1 score of the random forest classifier on the training set is \", random_f1_training)\n",
    "\n",
    "random_f1_test = f1_score(y_test, y_forest_test_pred)\n",
    "print(\"The F1 score of the random forest classifier on the test set is \", random_f1_test)"
   ]
  },
  {
   "cell_type": "code",
   "execution_count": 98,
   "id": "5c47e2a0",
   "metadata": {},
   "outputs": [
    {
     "name": "stdout",
     "output_type": "stream",
     "text": [
      "The precision score of the random forest classifier on the training set is  0.9\n",
      "The precision score of the random forest classifier on the test set is  0.6774193548387096\n"
     ]
    }
   ],
   "source": [
    "## Precision Score for the random forest\n",
    "random_precision_training = precision_score(y_train, y_forest_train_pred)\n",
    "print(\"The precision score of the random forest classifier on the training set is \", random_precision_training)\n",
    "\n",
    "random_precision_test = precision_score(y_test, y_forest_test_pred)\n",
    "print(\"The precision score of the random forest classifier on the test set is \", random_precision_test)"
   ]
  },
  {
   "cell_type": "code",
   "execution_count": 117,
   "id": "46e8735e",
   "metadata": {},
   "outputs": [
    {
     "name": "stdout",
     "output_type": "stream",
     "text": [
      "The recall score of the random forest classifier on the training set is  0.39375\n",
      "The recall score of the random forest classifier on the test set is  0.23333333333333334\n"
     ]
    }
   ],
   "source": [
    "## Recall Score for the random forest\n",
    "random_recall_training = recall_score(y_train, y_forest_train_pred)\n",
    "print(\"The recall score of the random forest classifier on the training set is \", random_recall_training)\n",
    "\n",
    "random_recall_test = recall_score(y_test, y_forest_test_pred)\n",
    "print(\"The recall score of the random forest classifier on the test set is \", random_recall_test)"
   ]
  },
  {
   "cell_type": "code",
   "execution_count": 41,
   "id": "dac3679a",
   "metadata": {},
   "outputs": [
    {
     "data": {
      "text/plain": [
       "{'bootstrap': True,\n",
       " 'ccp_alpha': 0.0,\n",
       " 'class_weight': None,\n",
       " 'criterion': 'gini',\n",
       " 'max_depth': None,\n",
       " 'max_features': 'sqrt',\n",
       " 'max_leaf_nodes': None,\n",
       " 'max_samples': None,\n",
       " 'min_impurity_decrease': 0.0,\n",
       " 'min_samples_leaf': 1,\n",
       " 'min_samples_split': 2,\n",
       " 'min_weight_fraction_leaf': 0.0,\n",
       " 'n_estimators': 100,\n",
       " 'n_jobs': None,\n",
       " 'oob_score': False,\n",
       " 'random_state': 0,\n",
       " 'verbose': 0,\n",
       " 'warm_start': False}"
      ]
     },
     "execution_count": 41,
     "metadata": {},
     "output_type": "execute_result"
    }
   ],
   "source": [
    "clf_rf.get_params()"
   ]
  },
  {
   "cell_type": "code",
   "execution_count": 55,
   "id": "be8433b4",
   "metadata": {},
   "outputs": [],
   "source": [
    "## Now let's tune the hyper parameters"
   ]
  },
  {
   "cell_type": "code",
   "execution_count": 59,
   "id": "c9a83fd4",
   "metadata": {},
   "outputs": [],
   "source": [
    "## tuning max_depth and max_features\n",
    "param_grid = {\"max_depth\": range(1,20),\n",
    "             \"max_features\":[0.2, 0.4, 0.6, 0.8]}\n",
    "\n",
    "grid_forest = GridSearchCV(estimator=forest_model, param_grid=param_grid, scoring=None, cv=8)"
   ]
  },
  {
   "cell_type": "code",
   "execution_count": 60,
   "id": "f922b522",
   "metadata": {},
   "outputs": [
    {
     "name": "stdout",
     "output_type": "stream",
     "text": [
      "Best max_depth: 6\n",
      "Best max_features: 0.2\n"
     ]
    }
   ],
   "source": [
    "## Random Forest - building model with best parameter values\n",
    "grid_forest = grid_forest.fit(X_train, y_train.values.ravel())\n",
    "\n",
    "print('Best max_depth:', grid_forest.best_estimator_.get_params()['max_depth'])\n",
    "print('Best max_features:', grid_forest.best_estimator_.get_params()['max_features'])"
   ]
  },
  {
   "cell_type": "code",
   "execution_count": 62,
   "id": "578102a8",
   "metadata": {},
   "outputs": [
    {
     "data": {
      "text/html": [
       "<style>#sk-container-id-3 {color: black;background-color: white;}#sk-container-id-3 pre{padding: 0;}#sk-container-id-3 div.sk-toggleable {background-color: white;}#sk-container-id-3 label.sk-toggleable__label {cursor: pointer;display: block;width: 100%;margin-bottom: 0;padding: 0.3em;box-sizing: border-box;text-align: center;}#sk-container-id-3 label.sk-toggleable__label-arrow:before {content: \"▸\";float: left;margin-right: 0.25em;color: #696969;}#sk-container-id-3 label.sk-toggleable__label-arrow:hover:before {color: black;}#sk-container-id-3 div.sk-estimator:hover label.sk-toggleable__label-arrow:before {color: black;}#sk-container-id-3 div.sk-toggleable__content {max-height: 0;max-width: 0;overflow: hidden;text-align: left;background-color: #f0f8ff;}#sk-container-id-3 div.sk-toggleable__content pre {margin: 0.2em;color: black;border-radius: 0.25em;background-color: #f0f8ff;}#sk-container-id-3 input.sk-toggleable__control:checked~div.sk-toggleable__content {max-height: 200px;max-width: 100%;overflow: auto;}#sk-container-id-3 input.sk-toggleable__control:checked~label.sk-toggleable__label-arrow:before {content: \"▾\";}#sk-container-id-3 div.sk-estimator input.sk-toggleable__control:checked~label.sk-toggleable__label {background-color: #d4ebff;}#sk-container-id-3 div.sk-label input.sk-toggleable__control:checked~label.sk-toggleable__label {background-color: #d4ebff;}#sk-container-id-3 input.sk-hidden--visually {border: 0;clip: rect(1px 1px 1px 1px);clip: rect(1px, 1px, 1px, 1px);height: 1px;margin: -1px;overflow: hidden;padding: 0;position: absolute;width: 1px;}#sk-container-id-3 div.sk-estimator {font-family: monospace;background-color: #f0f8ff;border: 1px dotted black;border-radius: 0.25em;box-sizing: border-box;margin-bottom: 0.5em;}#sk-container-id-3 div.sk-estimator:hover {background-color: #d4ebff;}#sk-container-id-3 div.sk-parallel-item::after {content: \"\";width: 100%;border-bottom: 1px solid gray;flex-grow: 1;}#sk-container-id-3 div.sk-label:hover label.sk-toggleable__label {background-color: #d4ebff;}#sk-container-id-3 div.sk-serial::before {content: \"\";position: absolute;border-left: 1px solid gray;box-sizing: border-box;top: 0;bottom: 0;left: 50%;z-index: 0;}#sk-container-id-3 div.sk-serial {display: flex;flex-direction: column;align-items: center;background-color: white;padding-right: 0.2em;padding-left: 0.2em;position: relative;}#sk-container-id-3 div.sk-item {position: relative;z-index: 1;}#sk-container-id-3 div.sk-parallel {display: flex;align-items: stretch;justify-content: center;background-color: white;position: relative;}#sk-container-id-3 div.sk-item::before, #sk-container-id-3 div.sk-parallel-item::before {content: \"\";position: absolute;border-left: 1px solid gray;box-sizing: border-box;top: 0;bottom: 0;left: 50%;z-index: -1;}#sk-container-id-3 div.sk-parallel-item {display: flex;flex-direction: column;z-index: 1;position: relative;background-color: white;}#sk-container-id-3 div.sk-parallel-item:first-child::after {align-self: flex-end;width: 50%;}#sk-container-id-3 div.sk-parallel-item:last-child::after {align-self: flex-start;width: 50%;}#sk-container-id-3 div.sk-parallel-item:only-child::after {width: 0;}#sk-container-id-3 div.sk-dashed-wrapped {border: 1px dashed gray;margin: 0 0.4em 0.5em 0.4em;box-sizing: border-box;padding-bottom: 0.4em;background-color: white;}#sk-container-id-3 div.sk-label label {font-family: monospace;font-weight: bold;display: inline-block;line-height: 1.2em;}#sk-container-id-3 div.sk-label-container {text-align: center;}#sk-container-id-3 div.sk-container {/* jupyter's `normalize.less` sets `[hidden] { display: none; }` but bootstrap.min.css set `[hidden] { display: none !important; }` so we also need the `!important` here to be able to override the default hidden behavior on the sphinx rendered scikit-learn.org. See: https://github.com/scikit-learn/scikit-learn/issues/21755 */display: inline-block !important;position: relative;}#sk-container-id-3 div.sk-text-repr-fallback {display: none;}</style><div id=\"sk-container-id-3\" class=\"sk-top-container\"><div class=\"sk-text-repr-fallback\"><pre>RandomForestClassifier(max_depth=6, max_features=0.2, random_state=0)</pre><b>In a Jupyter environment, please rerun this cell to show the HTML representation or trust the notebook. <br />On GitHub, the HTML representation is unable to render, please try loading this page with nbviewer.org.</b></div><div class=\"sk-container\" hidden><div class=\"sk-item\"><div class=\"sk-estimator sk-toggleable\"><input class=\"sk-toggleable__control sk-hidden--visually\" id=\"sk-estimator-id-3\" type=\"checkbox\" checked><label for=\"sk-estimator-id-3\" class=\"sk-toggleable__label sk-toggleable__label-arrow\">RandomForestClassifier</label><div class=\"sk-toggleable__content\"><pre>RandomForestClassifier(max_depth=6, max_features=0.2, random_state=0)</pre></div></div></div></div></div>"
      ],
      "text/plain": [
       "RandomForestClassifier(max_depth=6, max_features=0.2, random_state=0)"
      ]
     },
     "execution_count": 62,
     "metadata": {},
     "output_type": "execute_result"
    }
   ],
   "source": [
    "## Now that we know that best max_depth = 6 and best max_features of 0.2 is the best, \n",
    "## we can use those best hyperparameters...\n",
    "best_forest = grid_forest.best_estimator_\n",
    "best_forest.fit(X_train, y_train.values.ravel())"
   ]
  },
  {
   "cell_type": "code",
   "execution_count": 119,
   "id": "e8276ff4",
   "metadata": {},
   "outputs": [
    {
     "name": "stdout",
     "output_type": "stream",
     "text": [
      "The accuracy of the random forest model with tuned hyperparameters on the training set is  0.9455128205128205\n",
      "The accuracy of the random forest model with tuned parameters on the test set is  0.919957310565635\n"
     ]
    }
   ],
   "source": [
    "## Getting y_pred for training and test sets and see the accuracy for random forest with tuned hyperparameters\n",
    "\n",
    "y_train_best_forest_pred = grid_forest.predict(X_train)\n",
    "\n",
    "y_test_best_forest_pred = grid_forest.predict(X_test)\n",
    "\n",
    "## Accuracy score for the tuned random forest\n",
    "rf_accuracy_training = accuracy_score(y_train, y_train_best_forest_pred)\n",
    "print(\"The accuracy of the random forest model with tuned hyperparameters on the training set is \", rf_accuracy_training)\n",
    "\n",
    "rf_accuracy_test = accuracy_score(y_test, y_test_best_forest_pred)\n",
    "print(\"The accuracy of the random forest model with tuned parameters on the test set is \", rf_accuracy_test)"
   ]
  },
  {
   "cell_type": "code",
   "execution_count": 93,
   "id": "de7f7a8a",
   "metadata": {},
   "outputs": [
    {
     "name": "stdout",
     "output_type": "stream",
     "text": [
      "The F1 score of the random forest model with tuned hyperparameters on the training set is  0.4137931034482759\n",
      "The F1 score of the random forest model with tuned parameters on the test set is  0.32432432432432434\n"
     ]
    }
   ],
   "source": [
    "## F1 Score for the tuned random forest\n",
    "rf_f1_training = f1_score(y_train, y_train_best_forest_pred)\n",
    "print(\"The F1 score of the random forest model with tuned hyperparameters on the training set is \", rf_f1_training)\n",
    "\n",
    "rf_f1_test = f1_score(y_test, y_test_best_forest_pred)\n",
    "print(\"The F1 score of the random forest model with tuned parameters on the test set is \", rf_f1_test)"
   ]
  },
  {
   "cell_type": "code",
   "execution_count": 95,
   "id": "23bc2322",
   "metadata": {},
   "outputs": [
    {
     "name": "stdout",
     "output_type": "stream",
     "text": [
      "The F1 score of the random forest model with tuned hyperparameters on the training set is  0.9767441860465116\n",
      "The F1 score of the random forest model with tuned parameters on the test set is  0.8571428571428571\n"
     ]
    }
   ],
   "source": [
    "## Precision Score for the tuned random forest\n",
    "rf_precision_training = precision_score(y_train, y_train_best_forest_pred)\n",
    "print(\"The precision score of the random forest model with tuned hyperparameters on the training set is \", rf_precision_training)\n",
    "\n",
    "rf_precision_test = precision_score(y_test, y_test_best_forest_pred)\n",
    "print(\"The precision score of the random forest model with tuned parameters on the test set is \", rf_precision_test)"
   ]
  },
  {
   "cell_type": "code",
   "execution_count": 121,
   "id": "e5604aa5",
   "metadata": {},
   "outputs": [
    {
     "name": "stdout",
     "output_type": "stream",
     "text": [
      "The recall score of the tuned random forest classifier on the training set is  0.2625\n",
      "The recall score of the tuned random forest classifier on the test set is  0.2\n"
     ]
    }
   ],
   "source": [
    "## Recall Score for the tuned random forest\n",
    "rf_recall_training = recall_score(y_train, y_train_best_forest_pred)\n",
    "print(\"The recall score of the tuned random forest classifier on the training set is \", rf_recall_training)\n",
    "\n",
    "rf_recall_test = recall_score(y_test, y_test_best_forest_pred)\n",
    "print(\"The recall score of the tuned random forest classifier on the test set is \", rf_recall_test)"
   ]
  },
  {
   "cell_type": "markdown",
   "id": "13119b7d",
   "metadata": {},
   "source": [
    "### K-Nearest Neighbors (K-NN)"
   ]
  },
  {
   "cell_type": "code",
   "execution_count": 115,
   "id": "ced57e01",
   "metadata": {},
   "outputs": [
    {
     "data": {
      "text/html": [
       "<style>#sk-container-id-7 {color: black;background-color: white;}#sk-container-id-7 pre{padding: 0;}#sk-container-id-7 div.sk-toggleable {background-color: white;}#sk-container-id-7 label.sk-toggleable__label {cursor: pointer;display: block;width: 100%;margin-bottom: 0;padding: 0.3em;box-sizing: border-box;text-align: center;}#sk-container-id-7 label.sk-toggleable__label-arrow:before {content: \"▸\";float: left;margin-right: 0.25em;color: #696969;}#sk-container-id-7 label.sk-toggleable__label-arrow:hover:before {color: black;}#sk-container-id-7 div.sk-estimator:hover label.sk-toggleable__label-arrow:before {color: black;}#sk-container-id-7 div.sk-toggleable__content {max-height: 0;max-width: 0;overflow: hidden;text-align: left;background-color: #f0f8ff;}#sk-container-id-7 div.sk-toggleable__content pre {margin: 0.2em;color: black;border-radius: 0.25em;background-color: #f0f8ff;}#sk-container-id-7 input.sk-toggleable__control:checked~div.sk-toggleable__content {max-height: 200px;max-width: 100%;overflow: auto;}#sk-container-id-7 input.sk-toggleable__control:checked~label.sk-toggleable__label-arrow:before {content: \"▾\";}#sk-container-id-7 div.sk-estimator input.sk-toggleable__control:checked~label.sk-toggleable__label {background-color: #d4ebff;}#sk-container-id-7 div.sk-label input.sk-toggleable__control:checked~label.sk-toggleable__label {background-color: #d4ebff;}#sk-container-id-7 input.sk-hidden--visually {border: 0;clip: rect(1px 1px 1px 1px);clip: rect(1px, 1px, 1px, 1px);height: 1px;margin: -1px;overflow: hidden;padding: 0;position: absolute;width: 1px;}#sk-container-id-7 div.sk-estimator {font-family: monospace;background-color: #f0f8ff;border: 1px dotted black;border-radius: 0.25em;box-sizing: border-box;margin-bottom: 0.5em;}#sk-container-id-7 div.sk-estimator:hover {background-color: #d4ebff;}#sk-container-id-7 div.sk-parallel-item::after {content: \"\";width: 100%;border-bottom: 1px solid gray;flex-grow: 1;}#sk-container-id-7 div.sk-label:hover label.sk-toggleable__label {background-color: #d4ebff;}#sk-container-id-7 div.sk-serial::before {content: \"\";position: absolute;border-left: 1px solid gray;box-sizing: border-box;top: 0;bottom: 0;left: 50%;z-index: 0;}#sk-container-id-7 div.sk-serial {display: flex;flex-direction: column;align-items: center;background-color: white;padding-right: 0.2em;padding-left: 0.2em;position: relative;}#sk-container-id-7 div.sk-item {position: relative;z-index: 1;}#sk-container-id-7 div.sk-parallel {display: flex;align-items: stretch;justify-content: center;background-color: white;position: relative;}#sk-container-id-7 div.sk-item::before, #sk-container-id-7 div.sk-parallel-item::before {content: \"\";position: absolute;border-left: 1px solid gray;box-sizing: border-box;top: 0;bottom: 0;left: 50%;z-index: -1;}#sk-container-id-7 div.sk-parallel-item {display: flex;flex-direction: column;z-index: 1;position: relative;background-color: white;}#sk-container-id-7 div.sk-parallel-item:first-child::after {align-self: flex-end;width: 50%;}#sk-container-id-7 div.sk-parallel-item:last-child::after {align-self: flex-start;width: 50%;}#sk-container-id-7 div.sk-parallel-item:only-child::after {width: 0;}#sk-container-id-7 div.sk-dashed-wrapped {border: 1px dashed gray;margin: 0 0.4em 0.5em 0.4em;box-sizing: border-box;padding-bottom: 0.4em;background-color: white;}#sk-container-id-7 div.sk-label label {font-family: monospace;font-weight: bold;display: inline-block;line-height: 1.2em;}#sk-container-id-7 div.sk-label-container {text-align: center;}#sk-container-id-7 div.sk-container {/* jupyter's `normalize.less` sets `[hidden] { display: none; }` but bootstrap.min.css set `[hidden] { display: none !important; }` so we also need the `!important` here to be able to override the default hidden behavior on the sphinx rendered scikit-learn.org. See: https://github.com/scikit-learn/scikit-learn/issues/21755 */display: inline-block !important;position: relative;}#sk-container-id-7 div.sk-text-repr-fallback {display: none;}</style><div id=\"sk-container-id-7\" class=\"sk-top-container\"><div class=\"sk-text-repr-fallback\"><pre>KNeighborsClassifier()</pre><b>In a Jupyter environment, please rerun this cell to show the HTML representation or trust the notebook. <br />On GitHub, the HTML representation is unable to render, please try loading this page with nbviewer.org.</b></div><div class=\"sk-container\" hidden><div class=\"sk-item\"><div class=\"sk-estimator sk-toggleable\"><input class=\"sk-toggleable__control sk-hidden--visually\" id=\"sk-estimator-id-7\" type=\"checkbox\" checked><label for=\"sk-estimator-id-7\" class=\"sk-toggleable__label sk-toggleable__label-arrow\">KNeighborsClassifier</label><div class=\"sk-toggleable__content\"><pre>KNeighborsClassifier()</pre></div></div></div></div></div>"
      ],
      "text/plain": [
       "KNeighborsClassifier()"
      ]
     },
     "execution_count": 115,
     "metadata": {},
     "output_type": "execute_result"
    }
   ],
   "source": [
    "knn = KNeighborsClassifier(n_neighbors=5)\n",
    "knn.fit(X_train, y_train.values.ravel())"
   ]
  },
  {
   "cell_type": "code",
   "execution_count": 66,
   "id": "913d1117",
   "metadata": {},
   "outputs": [
    {
     "name": "stdout",
     "output_type": "stream",
     "text": [
      "The accuracy of K-NN on the training set is  0.9395604395604396\n",
      "The accuracy of K-NN on the test set is  0.9146211312700107\n"
     ]
    }
   ],
   "source": [
    "## get y_pred for training set\n",
    "y_knn_train_pred = knn.predict(X_train)\n",
    "\n",
    "## get y_pred for test set\n",
    "y_knn_test_pred = knn.predict(X_test)\n",
    "\n",
    "## Accuracy scores\n",
    "accuracy_training = accuracy_score(y_train, y_knn_train_pred)\n",
    "print(\"The accuracy of K-NN on the training set is \", accuracy_training)\n",
    "\n",
    "accuracy_test = accuracy_score(y_test, y_knn_test_pred)\n",
    "print(\"The accuracy of K-NN on the test set is \", accuracy_test)"
   ]
  },
  {
   "cell_type": "code",
   "execution_count": 99,
   "id": "cd8e23e5",
   "metadata": {},
   "outputs": [
    {
     "name": "stdout",
     "output_type": "stream",
     "text": [
      "The F1 score of the random forest classifier on the training set is  0.3465346534653465\n",
      "The F1 score of the random forest classifier on the test set is  0.27272727272727276\n"
     ]
    }
   ],
   "source": [
    "## F1 Score for the KNN\n",
    "knn_f1_training = f1_score(y_train, y_knn_train_pred)\n",
    "print(\"The F1 score of the K-NN on the training set is \", knn_f1_training)\n",
    "\n",
    "knn_f1_test = f1_score(y_test, y_knn_test_pred)\n",
    "print(\"The F1 score of the K-NN on the test set is \", knn_f1_test)"
   ]
  },
  {
   "cell_type": "code",
   "execution_count": 100,
   "id": "90b97f15",
   "metadata": {},
   "outputs": [
    {
     "name": "stdout",
     "output_type": "stream",
     "text": [
      "The precision score of the K-NN on the training set is  0.8333333333333334\n",
      "The precision score of the K-NN on the test set is  0.75\n"
     ]
    }
   ],
   "source": [
    "## Precision Score for the KNN\n",
    "knn_precision_training = precision_score(y_train, y_knn_train_pred)\n",
    "print(\"The precision score of the K-NN on the training set is \", knn_precision_training)\n",
    "\n",
    "knn_precision_test = precision_score(y_test, y_knn_test_pred)\n",
    "print(\"The precision score of the K-NN on the test set is \", knn_precision_test)"
   ]
  },
  {
   "cell_type": "code",
   "execution_count": 122,
   "id": "c2f7d0a0",
   "metadata": {},
   "outputs": [
    {
     "name": "stdout",
     "output_type": "stream",
     "text": [
      "The recall score of the K-NN on the training set is  0.21875\n",
      "The recall score of the K-NN on the test set is  0.16666666666666666\n"
     ]
    }
   ],
   "source": [
    "## Recall Score for the KNN\n",
    "knn_recall_training = recall_score(y_train, y_knn_train_pred)\n",
    "print(\"The recall score of the K-NN on the training set is \", knn_recall_training)\n",
    "\n",
    "knn_recall_test = recall_score(y_test, y_knn_test_pred)\n",
    "print(\"The recall score of the K-NN on the test set is \", knn_recall_test)"
   ]
  },
  {
   "cell_type": "code",
   "execution_count": 67,
   "id": "83d96088",
   "metadata": {},
   "outputs": [
    {
     "name": "stdout",
     "output_type": "stream",
     "text": [
      "Best p: 1\n",
      "Best n_neighbors: 11\n"
     ]
    }
   ],
   "source": [
    "#List Hyperparameters that we want to tune.\n",
    "n_neighbors = list(range(1,50,2))\n",
    "# type of distance (p=1 is manhattan; p=2 is euclidean)\n",
    "p=[1,2]\n",
    "\n",
    "#Convert to dictionary\n",
    "hyperparameters = dict(n_neighbors=n_neighbors, p=p)\n",
    "\n",
    "#Create new KNN object\n",
    "knn_2 = KNeighborsClassifier()\n",
    "\n",
    "#Use GridSearch\n",
    "clf = GridSearchCV(knn_2, hyperparameters, cv=10)\n",
    "\n",
    "#Fit the model\n",
    "best_model = clf.fit(X_train,y_train.values.ravel())\n",
    "\n",
    "#Print The value of best Hyperparameters\n",
    "print('Best p:', best_model.best_estimator_.get_params()['p'])\n",
    "print('Best n_neighbors:', best_model.best_estimator_.get_params()['n_neighbors'])"
   ]
  },
  {
   "cell_type": "code",
   "execution_count": 90,
   "id": "572fafc8",
   "metadata": {},
   "outputs": [
    {
     "name": "stdout",
     "output_type": "stream",
     "text": [
      "The accuracy of K-NN with tuned hyperparameters on the training set is  0.9340659340659341\n",
      "The accuracy of K-NN with tuned hyperparameters on the test set is  0.9103521878335112\n"
     ]
    }
   ],
   "source": [
    "## Using knn with tuned hyperparameters\n",
    "knn_best = KNeighborsClassifier(n_neighbors=11, p=1)\n",
    "knn_best.fit(X_train, y_train.values.ravel())\n",
    "\n",
    "## get y_pred for training set\n",
    "y_knn_best_train_pred = knn_best.predict(X_train)\n",
    "\n",
    "## get y_pred for test set\n",
    "y_knn_best_test_pred = knn_best.predict(X_test)\n",
    "\n",
    "## Accuracy scores\n",
    "accuracy_training = accuracy_score(y_train, y_knn_best_train_pred)\n",
    "print(\"The accuracy of K-NN with tuned hyperparameters on the training set is \", accuracy_training)\n",
    "\n",
    "accuracy_test = accuracy_score(y_test, y_knn_best_test_pred)\n",
    "print(\"The accuracy of K-NN with tuned hyperparameters on the test set is \", accuracy_test)"
   ]
  },
  {
   "cell_type": "code",
   "execution_count": 101,
   "id": "62a8a3d0",
   "metadata": {},
   "outputs": [
    {
     "name": "stdout",
     "output_type": "stream",
     "text": [
      "The F1 score of the K-NN with tuned hyperparameters on the training set is  0.20879120879120877\n",
      "The F1 score of the K-NN with tuned hyperparameters on the test set is  0.14285714285714288\n"
     ]
    }
   ],
   "source": [
    "## F1 Score for the tuned KNN\n",
    "tuned_knn_f1_training = f1_score(y_train, y_knn_best_train_pred)\n",
    "print(\"The F1 score of the K-NN with tuned hyperparameters on the training set is \", tuned_knn_f1_training)\n",
    "\n",
    "tuned_knn_f1_test = f1_score(y_test, y_knn_best_test_pred)\n",
    "print(\"The F1 score of the K-NN with tuned hyperparameters on the test set is \", tuned_knn_f1_test)"
   ]
  },
  {
   "cell_type": "code",
   "execution_count": 123,
   "id": "2df24d76",
   "metadata": {},
   "outputs": [
    {
     "name": "stdout",
     "output_type": "stream",
     "text": [
      "The precision score of the K-NN with tuned hyperparameters on the training set is  0.8636363636363636\n",
      "The precision score of the K-NN with tuned hyperparameters on the test set is  0.875\n"
     ]
    }
   ],
   "source": [
    "## Precision Score for the tuned KNN\n",
    "tuned_knn_precision_training = precision_score(y_train, y_knn_best_train_pred)\n",
    "print(\"The precision score of the K-NN with tuned hyperparameters on the training set is \", tuned_knn_precision_training)\n",
    "\n",
    "tuned_knn_precision_test = precision_score(y_test, y_knn_best_test_pred)\n",
    "print(\"The precision score of the K-NN with tuned hyperparameters on the test set is \", tuned_knn_precision_test)"
   ]
  },
  {
   "cell_type": "code",
   "execution_count": 129,
   "id": "b396ca8c",
   "metadata": {},
   "outputs": [
    {
     "name": "stdout",
     "output_type": "stream",
     "text": [
      "The recall score of the random forest classifier on the training set is  0.11875\n",
      "The recall score of the random forest classifier on the test set is  0.07777777777777778\n"
     ]
    }
   ],
   "source": [
    "## Recall Score for the tuned KNN\n",
    "tuned_knn_recall_training = recall_score(y_train, y_knn_best_train_pred)\n",
    "print(\"The recall score of the random forest classifier on the training set is \", tuned_knn_recall_training)\n",
    "\n",
    "tuned_knn_recall_test = recall_score(y_test, y_knn_best_test_pred)\n",
    "print(\"The recall score of the random forest classifier on the test set is \", tuned_knn_recall_test)"
   ]
  },
  {
   "cell_type": "markdown",
   "id": "13d93839",
   "metadata": {},
   "source": [
    "### Naive Bayes\n",
    "\n",
    "Bernoulli Naive Bayes is the best fit since the predictors are boolean variables. "
   ]
  },
  {
   "cell_type": "code",
   "execution_count": 70,
   "id": "38e69220",
   "metadata": {},
   "outputs": [
    {
     "data": {
      "text/html": [
       "<style>#sk-container-id-5 {color: black;background-color: white;}#sk-container-id-5 pre{padding: 0;}#sk-container-id-5 div.sk-toggleable {background-color: white;}#sk-container-id-5 label.sk-toggleable__label {cursor: pointer;display: block;width: 100%;margin-bottom: 0;padding: 0.3em;box-sizing: border-box;text-align: center;}#sk-container-id-5 label.sk-toggleable__label-arrow:before {content: \"▸\";float: left;margin-right: 0.25em;color: #696969;}#sk-container-id-5 label.sk-toggleable__label-arrow:hover:before {color: black;}#sk-container-id-5 div.sk-estimator:hover label.sk-toggleable__label-arrow:before {color: black;}#sk-container-id-5 div.sk-toggleable__content {max-height: 0;max-width: 0;overflow: hidden;text-align: left;background-color: #f0f8ff;}#sk-container-id-5 div.sk-toggleable__content pre {margin: 0.2em;color: black;border-radius: 0.25em;background-color: #f0f8ff;}#sk-container-id-5 input.sk-toggleable__control:checked~div.sk-toggleable__content {max-height: 200px;max-width: 100%;overflow: auto;}#sk-container-id-5 input.sk-toggleable__control:checked~label.sk-toggleable__label-arrow:before {content: \"▾\";}#sk-container-id-5 div.sk-estimator input.sk-toggleable__control:checked~label.sk-toggleable__label {background-color: #d4ebff;}#sk-container-id-5 div.sk-label input.sk-toggleable__control:checked~label.sk-toggleable__label {background-color: #d4ebff;}#sk-container-id-5 input.sk-hidden--visually {border: 0;clip: rect(1px 1px 1px 1px);clip: rect(1px, 1px, 1px, 1px);height: 1px;margin: -1px;overflow: hidden;padding: 0;position: absolute;width: 1px;}#sk-container-id-5 div.sk-estimator {font-family: monospace;background-color: #f0f8ff;border: 1px dotted black;border-radius: 0.25em;box-sizing: border-box;margin-bottom: 0.5em;}#sk-container-id-5 div.sk-estimator:hover {background-color: #d4ebff;}#sk-container-id-5 div.sk-parallel-item::after {content: \"\";width: 100%;border-bottom: 1px solid gray;flex-grow: 1;}#sk-container-id-5 div.sk-label:hover label.sk-toggleable__label {background-color: #d4ebff;}#sk-container-id-5 div.sk-serial::before {content: \"\";position: absolute;border-left: 1px solid gray;box-sizing: border-box;top: 0;bottom: 0;left: 50%;z-index: 0;}#sk-container-id-5 div.sk-serial {display: flex;flex-direction: column;align-items: center;background-color: white;padding-right: 0.2em;padding-left: 0.2em;position: relative;}#sk-container-id-5 div.sk-item {position: relative;z-index: 1;}#sk-container-id-5 div.sk-parallel {display: flex;align-items: stretch;justify-content: center;background-color: white;position: relative;}#sk-container-id-5 div.sk-item::before, #sk-container-id-5 div.sk-parallel-item::before {content: \"\";position: absolute;border-left: 1px solid gray;box-sizing: border-box;top: 0;bottom: 0;left: 50%;z-index: -1;}#sk-container-id-5 div.sk-parallel-item {display: flex;flex-direction: column;z-index: 1;position: relative;background-color: white;}#sk-container-id-5 div.sk-parallel-item:first-child::after {align-self: flex-end;width: 50%;}#sk-container-id-5 div.sk-parallel-item:last-child::after {align-self: flex-start;width: 50%;}#sk-container-id-5 div.sk-parallel-item:only-child::after {width: 0;}#sk-container-id-5 div.sk-dashed-wrapped {border: 1px dashed gray;margin: 0 0.4em 0.5em 0.4em;box-sizing: border-box;padding-bottom: 0.4em;background-color: white;}#sk-container-id-5 div.sk-label label {font-family: monospace;font-weight: bold;display: inline-block;line-height: 1.2em;}#sk-container-id-5 div.sk-label-container {text-align: center;}#sk-container-id-5 div.sk-container {/* jupyter's `normalize.less` sets `[hidden] { display: none; }` but bootstrap.min.css set `[hidden] { display: none !important; }` so we also need the `!important` here to be able to override the default hidden behavior on the sphinx rendered scikit-learn.org. See: https://github.com/scikit-learn/scikit-learn/issues/21755 */display: inline-block !important;position: relative;}#sk-container-id-5 div.sk-text-repr-fallback {display: none;}</style><div id=\"sk-container-id-5\" class=\"sk-top-container\"><div class=\"sk-text-repr-fallback\"><pre>BernoulliNB()</pre><b>In a Jupyter environment, please rerun this cell to show the HTML representation or trust the notebook. <br />On GitHub, the HTML representation is unable to render, please try loading this page with nbviewer.org.</b></div><div class=\"sk-container\" hidden><div class=\"sk-item\"><div class=\"sk-estimator sk-toggleable\"><input class=\"sk-toggleable__control sk-hidden--visually\" id=\"sk-estimator-id-5\" type=\"checkbox\" checked><label for=\"sk-estimator-id-5\" class=\"sk-toggleable__label sk-toggleable__label-arrow\">BernoulliNB</label><div class=\"sk-toggleable__content\"><pre>BernoulliNB()</pre></div></div></div></div></div>"
      ],
      "text/plain": [
       "BernoulliNB()"
      ]
     },
     "execution_count": 70,
     "metadata": {},
     "output_type": "execute_result"
    }
   ],
   "source": [
    "bnb = BernoulliNB()\n",
    "bnb.fit(X_train, y_train.values.ravel())"
   ]
  },
  {
   "cell_type": "code",
   "execution_count": 125,
   "id": "4cf64886",
   "metadata": {},
   "outputs": [
    {
     "name": "stdout",
     "output_type": "stream",
     "text": [
      "The accuracy of the Bernoulli Naive Bayes on the training set is  0.9381868131868132\n",
      "The accuracy of the Bernoulli Naive Bayes on the test set is  0.9156883671291356\n"
     ]
    }
   ],
   "source": [
    "# predicting the y values with the model \n",
    "y_bnb_train_pred = bnb.predict(X_train)\n",
    "\n",
    "y_bnb_test_pred = bnb.predict(X_test)\n",
    "\n",
    "## Accuracy scores\n",
    "accuracy_training = accuracy_score(y_train, y_bnb_train_pred)\n",
    "print(\"The accuracy of the Bernoulli Naive Bayes on the training set is \", accuracy_training)\n",
    "\n",
    "accuracy_test = accuracy_score(y_test, y_bnb_test_pred)\n",
    "print(\"The accuracy of the Bernoulli Naive Bayes on the test set is \", accuracy_test)"
   ]
  },
  {
   "cell_type": "code",
   "execution_count": 103,
   "id": "90730f54",
   "metadata": {},
   "outputs": [
    {
     "name": "stdout",
     "output_type": "stream",
     "text": [
      "The F1 score of the K-NN on the training set is  0.430379746835443\n",
      "The F1 score of the K-NN on the test set is  0.4551724137931034\n"
     ]
    }
   ],
   "source": [
    "## F1 Score for the BernoulliNB\n",
    "bnb_f1_training = f1_score(y_train, y_bnb_train_pred)\n",
    "print(\"The F1 score of the Bernoulli Naive Bayes on the training set is \", bnb_f1_training)\n",
    "\n",
    "bnb_f1_test = f1_score(y_test, y_bnb_test_pred)\n",
    "print(\"The F1 score of the Bernoulli Naive Bayes on the test set is \", bnb_f1_test)"
   ]
  },
  {
   "cell_type": "code",
   "execution_count": 104,
   "id": "ef7d4358",
   "metadata": {},
   "outputs": [
    {
     "name": "stdout",
     "output_type": "stream",
     "text": [
      "The precision score of the K-NN on the training set is  0.6623376623376623\n",
      "The precision score of the K-NN on the test set is  0.6\n"
     ]
    }
   ],
   "source": [
    "## Precision Score for the BernoulliNB\n",
    "bnb_precision_training = precision_score(y_train, y_bnb_train_pred)\n",
    "print(\"The precision score of the Bernoulli Naive Bayes on the training set is \", bnb_precision_training)\n",
    "\n",
    "bnb_precision_test = precision_score(y_test, y_bnb_test_pred)\n",
    "print(\"The precision score of the Bernoulli Naive Bayes on the test set is \", bnb_precision_test)"
   ]
  },
  {
   "cell_type": "code",
   "execution_count": 126,
   "id": "1a2dfe1b",
   "metadata": {},
   "outputs": [
    {
     "name": "stdout",
     "output_type": "stream",
     "text": [
      "The recall score of the random forest classifier on the training set is  0.31875\n",
      "The recall score of the random forest classifier on the test set is  0.36666666666666664\n"
     ]
    }
   ],
   "source": [
    "## Recall Score for the BernoulliNB\n",
    "bnb_recall_training = recall_score(y_train, y_bnb_train_pred)\n",
    "print(\"The recall score of the random forest classifier on the training set is \", bnb_recall_training)\n",
    "\n",
    "bnb_recall_test = recall_score(y_test, y_bnb_test_pred)\n",
    "print(\"The recall score of the random forest classifier on the test set is \", bnb_recall_test)"
   ]
  },
  {
   "cell_type": "code",
   "execution_count": 72,
   "id": "21a7a6ef",
   "metadata": {},
   "outputs": [
    {
     "name": "stdout",
     "output_type": "stream",
     "text": [
      "{'alpha': 1.0, 'binarize': 0.0, 'class_prior': None, 'fit_prior': True}\n"
     ]
    }
   ],
   "source": [
    "# let's get some parameters\n",
    "print(bnb.get_params())"
   ]
  },
  {
   "cell_type": "code",
   "execution_count": 73,
   "id": "99ecd63e",
   "metadata": {},
   "outputs": [
    {
     "name": "stdout",
     "output_type": "stream",
     "text": [
      "BernoulliNB(alpha=1)\n"
     ]
    }
   ],
   "source": [
    "# let's focus on adjusting the alpha value \n",
    "params = [{'alpha': [1, 0.1, 0.01, 0.001, 0.0001, 0.00001]}]\n",
    "grid = GridSearchCV(estimator=BernoulliNB(), param_grid=params, cv=8, scoring='accuracy')\n",
    "grid.fit(X_train, y_train.values.ravel())\n",
    "print(grid.best_estimator_)"
   ]
  },
  {
   "cell_type": "markdown",
   "id": "63ee9227",
   "metadata": {},
   "source": [
    "Since default value of alpha for BernoulliNB( ) is 1, and the best estimator for alpha is 1, there isn't anything to adjust."
   ]
  },
  {
   "cell_type": "markdown",
   "id": "2aa52990",
   "metadata": {},
   "source": [
    "### Logistic Regression"
   ]
  },
  {
   "cell_type": "code",
   "execution_count": 78,
   "id": "09cb6ca6",
   "metadata": {},
   "outputs": [
    {
     "data": {
      "text/html": [
       "<style>#sk-container-id-6 {color: black;background-color: white;}#sk-container-id-6 pre{padding: 0;}#sk-container-id-6 div.sk-toggleable {background-color: white;}#sk-container-id-6 label.sk-toggleable__label {cursor: pointer;display: block;width: 100%;margin-bottom: 0;padding: 0.3em;box-sizing: border-box;text-align: center;}#sk-container-id-6 label.sk-toggleable__label-arrow:before {content: \"▸\";float: left;margin-right: 0.25em;color: #696969;}#sk-container-id-6 label.sk-toggleable__label-arrow:hover:before {color: black;}#sk-container-id-6 div.sk-estimator:hover label.sk-toggleable__label-arrow:before {color: black;}#sk-container-id-6 div.sk-toggleable__content {max-height: 0;max-width: 0;overflow: hidden;text-align: left;background-color: #f0f8ff;}#sk-container-id-6 div.sk-toggleable__content pre {margin: 0.2em;color: black;border-radius: 0.25em;background-color: #f0f8ff;}#sk-container-id-6 input.sk-toggleable__control:checked~div.sk-toggleable__content {max-height: 200px;max-width: 100%;overflow: auto;}#sk-container-id-6 input.sk-toggleable__control:checked~label.sk-toggleable__label-arrow:before {content: \"▾\";}#sk-container-id-6 div.sk-estimator input.sk-toggleable__control:checked~label.sk-toggleable__label {background-color: #d4ebff;}#sk-container-id-6 div.sk-label input.sk-toggleable__control:checked~label.sk-toggleable__label {background-color: #d4ebff;}#sk-container-id-6 input.sk-hidden--visually {border: 0;clip: rect(1px 1px 1px 1px);clip: rect(1px, 1px, 1px, 1px);height: 1px;margin: -1px;overflow: hidden;padding: 0;position: absolute;width: 1px;}#sk-container-id-6 div.sk-estimator {font-family: monospace;background-color: #f0f8ff;border: 1px dotted black;border-radius: 0.25em;box-sizing: border-box;margin-bottom: 0.5em;}#sk-container-id-6 div.sk-estimator:hover {background-color: #d4ebff;}#sk-container-id-6 div.sk-parallel-item::after {content: \"\";width: 100%;border-bottom: 1px solid gray;flex-grow: 1;}#sk-container-id-6 div.sk-label:hover label.sk-toggleable__label {background-color: #d4ebff;}#sk-container-id-6 div.sk-serial::before {content: \"\";position: absolute;border-left: 1px solid gray;box-sizing: border-box;top: 0;bottom: 0;left: 50%;z-index: 0;}#sk-container-id-6 div.sk-serial {display: flex;flex-direction: column;align-items: center;background-color: white;padding-right: 0.2em;padding-left: 0.2em;position: relative;}#sk-container-id-6 div.sk-item {position: relative;z-index: 1;}#sk-container-id-6 div.sk-parallel {display: flex;align-items: stretch;justify-content: center;background-color: white;position: relative;}#sk-container-id-6 div.sk-item::before, #sk-container-id-6 div.sk-parallel-item::before {content: \"\";position: absolute;border-left: 1px solid gray;box-sizing: border-box;top: 0;bottom: 0;left: 50%;z-index: -1;}#sk-container-id-6 div.sk-parallel-item {display: flex;flex-direction: column;z-index: 1;position: relative;background-color: white;}#sk-container-id-6 div.sk-parallel-item:first-child::after {align-self: flex-end;width: 50%;}#sk-container-id-6 div.sk-parallel-item:last-child::after {align-self: flex-start;width: 50%;}#sk-container-id-6 div.sk-parallel-item:only-child::after {width: 0;}#sk-container-id-6 div.sk-dashed-wrapped {border: 1px dashed gray;margin: 0 0.4em 0.5em 0.4em;box-sizing: border-box;padding-bottom: 0.4em;background-color: white;}#sk-container-id-6 div.sk-label label {font-family: monospace;font-weight: bold;display: inline-block;line-height: 1.2em;}#sk-container-id-6 div.sk-label-container {text-align: center;}#sk-container-id-6 div.sk-container {/* jupyter's `normalize.less` sets `[hidden] { display: none; }` but bootstrap.min.css set `[hidden] { display: none !important; }` so we also need the `!important` here to be able to override the default hidden behavior on the sphinx rendered scikit-learn.org. See: https://github.com/scikit-learn/scikit-learn/issues/21755 */display: inline-block !important;position: relative;}#sk-container-id-6 div.sk-text-repr-fallback {display: none;}</style><div id=\"sk-container-id-6\" class=\"sk-top-container\"><div class=\"sk-text-repr-fallback\"><pre>LogisticRegression(random_state=42)</pre><b>In a Jupyter environment, please rerun this cell to show the HTML representation or trust the notebook. <br />On GitHub, the HTML representation is unable to render, please try loading this page with nbviewer.org.</b></div><div class=\"sk-container\" hidden><div class=\"sk-item\"><div class=\"sk-estimator sk-toggleable\"><input class=\"sk-toggleable__control sk-hidden--visually\" id=\"sk-estimator-id-6\" type=\"checkbox\" checked><label for=\"sk-estimator-id-6\" class=\"sk-toggleable__label sk-toggleable__label-arrow\">LogisticRegression</label><div class=\"sk-toggleable__content\"><pre>LogisticRegression(random_state=42)</pre></div></div></div></div></div>"
      ],
      "text/plain": [
       "LogisticRegression(random_state=42)"
      ]
     },
     "execution_count": 78,
     "metadata": {},
     "output_type": "execute_result"
    }
   ],
   "source": [
    "logreg = LogisticRegression(random_state=42).fit(X_train, y_train.values.ravel())\n",
    "logreg"
   ]
  },
  {
   "cell_type": "code",
   "execution_count": 79,
   "id": "3ea3806f",
   "metadata": {},
   "outputs": [
    {
     "name": "stdout",
     "output_type": "stream",
     "text": [
      "The accuracy of the Logistic Regression on the training set is  0.9391025641025641\n",
      "The accuracy of the Logistic Regression on the test set is  0.919957310565635\n"
     ]
    }
   ],
   "source": [
    "# predicting the y values with the model \n",
    "y_logreg_train_pred = logreg.predict(X_train)\n",
    "\n",
    "y_logreg_test_pred = logreg.predict(X_test)\n",
    "\n",
    "## Accuracy scores\n",
    "accuracy_training = accuracy_score(y_train, y_logreg_train_pred)\n",
    "print(\"The accuracy of the Logistic Regression on the training set is \", accuracy_training)\n",
    "\n",
    "accuracy_test = accuracy_score(y_test, y_logreg_test_pred)\n",
    "print(\"The accuracy of the Logistic Regression on the test set is \", accuracy_test)"
   ]
  },
  {
   "cell_type": "code",
   "execution_count": 105,
   "id": "5c899f3b",
   "metadata": {},
   "outputs": [
    {
     "name": "stdout",
     "output_type": "stream",
     "text": [
      "The F1 score of the Logistic Regression on the training set is  0.3755868544600939\n",
      "The F1 score of the Logistic Regression on the test set is  0.4\n"
     ]
    }
   ],
   "source": [
    "## F1 Score for the Logistic Regression\n",
    "logreg_f1_training = f1_score(y_train, y_logreg_train_pred)\n",
    "print(\"The F1 score of the Logistic Regression on the training set is \", logreg_f1_training)\n",
    "\n",
    "logreg_f1_test = f1_score(y_test, y_logreg_test_pred)\n",
    "print(\"The F1 score of the Logistic Regression on the test set is \", logreg_f1_test)"
   ]
  },
  {
   "cell_type": "code",
   "execution_count": 106,
   "id": "7ab93eef",
   "metadata": {},
   "outputs": [
    {
     "name": "stdout",
     "output_type": "stream",
     "text": [
      "The precision score of the K-NN on the training set is  0.7547169811320755\n",
      "The precision score of the K-NN on the test set is  0.7142857142857143\n"
     ]
    }
   ],
   "source": [
    "## Precision Score for the Logistic Regression\n",
    "logreg_precision_training = precision_score(y_train, y_logreg_train_pred)\n",
    "print(\"The precision score of the Logistic Regression on the training set is \", logreg_precision_training)\n",
    "\n",
    "logreg_precision_test = precision_score(y_test, y_logreg_test_pred)\n",
    "print(\"The precision score of the Logistic Regression on the test set is \", logreg_precision_test)"
   ]
  },
  {
   "cell_type": "code",
   "execution_count": 130,
   "id": "62776569",
   "metadata": {},
   "outputs": [
    {
     "name": "stdout",
     "output_type": "stream",
     "text": [
      "The recall score of the Logistic Regression on the training set is  0.25\n",
      "The recall score of the Logistic Regression on the test set is  0.2777777777777778\n"
     ]
    }
   ],
   "source": [
    "## Recall Score for the Logistic Regression\n",
    "logreg_recall_training = recall_score(y_train, y_logreg_train_pred)\n",
    "print(\"The recall score of the Logistic Regression on the training set is \", logreg_recall_training)\n",
    "\n",
    "logreg_recall_test = recall_score(y_test, y_logreg_test_pred)\n",
    "print(\"The recall score of the Logistic Regression on the test set is \", logreg_recall_test)"
   ]
  },
  {
   "cell_type": "code",
   "execution_count": 108,
   "id": "8deae3ca",
   "metadata": {},
   "outputs": [
    {
     "name": "stdout",
     "output_type": "stream",
     "text": [
      "Best penalty: l2\n",
      "Best C: 4.281332398719396\n"
     ]
    },
    {
     "name": "stderr",
     "output_type": "stream",
     "text": [
      "/Users/teresavail/.pyenv/versions/3.10.5/lib/python3.10/site-packages/sklearn/model_selection/_validation.py:378: FitFailedWarning: \n",
      "400 fits failed out of a total of 600.\n",
      "The score on these train-test partitions for these parameters will be set to nan.\n",
      "If these failures are not expected, you can try to debug them by setting error_score='raise'.\n",
      "\n",
      "Below are more details about the failures:\n",
      "--------------------------------------------------------------------------------\n",
      "200 fits failed with the following error:\n",
      "Traceback (most recent call last):\n",
      "  File \"/Users/teresavail/.pyenv/versions/3.10.5/lib/python3.10/site-packages/sklearn/model_selection/_validation.py\", line 686, in _fit_and_score\n",
      "    estimator.fit(X_train, y_train, **fit_params)\n",
      "  File \"/Users/teresavail/.pyenv/versions/3.10.5/lib/python3.10/site-packages/sklearn/linear_model/_logistic.py\", line 1091, in fit\n",
      "    solver = _check_solver(self.solver, self.penalty, self.dual)\n",
      "  File \"/Users/teresavail/.pyenv/versions/3.10.5/lib/python3.10/site-packages/sklearn/linear_model/_logistic.py\", line 61, in _check_solver\n",
      "    raise ValueError(\n",
      "ValueError: Solver lbfgs supports only 'l2' or 'none' penalties, got l1 penalty.\n",
      "\n",
      "--------------------------------------------------------------------------------\n",
      "200 fits failed with the following error:\n",
      "Traceback (most recent call last):\n",
      "  File \"/Users/teresavail/.pyenv/versions/3.10.5/lib/python3.10/site-packages/sklearn/model_selection/_validation.py\", line 686, in _fit_and_score\n",
      "    estimator.fit(X_train, y_train, **fit_params)\n",
      "  File \"/Users/teresavail/.pyenv/versions/3.10.5/lib/python3.10/site-packages/sklearn/linear_model/_logistic.py\", line 1091, in fit\n",
      "    solver = _check_solver(self.solver, self.penalty, self.dual)\n",
      "  File \"/Users/teresavail/.pyenv/versions/3.10.5/lib/python3.10/site-packages/sklearn/linear_model/_logistic.py\", line 61, in _check_solver\n",
      "    raise ValueError(\n",
      "ValueError: Solver lbfgs supports only 'l2' or 'none' penalties, got elasticnet penalty.\n",
      "\n",
      "  warnings.warn(some_fits_failed_message, FitFailedWarning)\n",
      "/Users/teresavail/.pyenv/versions/3.10.5/lib/python3.10/site-packages/sklearn/model_selection/_search.py:953: UserWarning: One or more of the test scores are non-finite: [       nan 0.92673956        nan        nan 0.92673956        nan\n",
      "        nan 0.92673956        nan        nan 0.92673956        nan\n",
      "        nan 0.92673956        nan        nan 0.92673956        nan\n",
      "        nan 0.92719827        nan        nan 0.93223786        nan\n",
      "        nan 0.93544468        nan        nan 0.93635792        nan\n",
      "        nan 0.93818441        nan        nan 0.93909974        nan\n",
      "        nan 0.93864103        nan        nan 0.93864103        nan\n",
      "        nan 0.93818231        nan        nan 0.93772569        nan\n",
      "        nan 0.93772569        nan        nan 0.93772569        nan\n",
      "        nan 0.93772569        nan        nan 0.93772569        nan]\n",
      "  warnings.warn(\n"
     ]
    }
   ],
   "source": [
    "# Using GridSearchCV on Logistic Regression \n",
    "\n",
    "#List Hyperparameters that we want to tune.\n",
    "penalty=['l1','l2', 'elasticnet']\n",
    "C = np.logspace(-4, 4, 20)\n",
    "\n",
    "#Convert to dictionary\n",
    "hyperparameters = dict(penalty=penalty, C=C)\n",
    "\n",
    "#Create new Logistic Regression object\n",
    "logreg_2 = LogisticRegression()\n",
    "\n",
    "#Use GridSearch\n",
    "clf = GridSearchCV(logreg_2, hyperparameters, cv=10)\n",
    "\n",
    "#Fit the model\n",
    "best_model = clf.fit(X_train,y_train.values.ravel())\n",
    "\n",
    "#Print The value of best Hyperparameters\n",
    "print('Best penalty:', best_model.best_estimator_.get_params()['penalty'])\n",
    "print('Best C:', best_model.best_estimator_.get_params()['C'])"
   ]
  },
  {
   "cell_type": "code",
   "execution_count": 109,
   "id": "bf1f866f",
   "metadata": {},
   "outputs": [
    {
     "name": "stdout",
     "output_type": "stream",
     "text": [
      "The accuracy of the Logistic Regression on the training set is  0.940018315018315\n",
      "The accuracy of the Logistic Regression on the test set is  0.9188900747065102\n"
     ]
    }
   ],
   "source": [
    "## Using logistic regression with tuned hyperparameters\n",
    "\n",
    "logreg_best = LogisticRegression(random_state=42, penalty='l2', C=4.281332398719396).fit(X_train, y_train.values.ravel())\n",
    "\n",
    "# predicting the y values with the model \n",
    "y_logreg_best_train_pred = logreg_best.predict(X_train)\n",
    "\n",
    "y_logreg_best_test_pred = logreg_best.predict(X_test)\n",
    "\n",
    "## Accuracy scores\n",
    "logreg_best_accuracy_training = accuracy_score(y_train, y_logreg_best_train_pred)\n",
    "print(\"The accuracy of the Logistic Regression with tuned hyperparameters on the training set is \", logreg_best_accuracy_training)\n",
    "\n",
    "logreg_best_accuracy_test = accuracy_score(y_test, y_logreg_best_test_pred)\n",
    "print(\"The accuracy of the Logistic Regression with tuned hyperparameters on the test set is \", logreg_best_accuracy_test)"
   ]
  },
  {
   "cell_type": "code",
   "execution_count": 110,
   "id": "65243537",
   "metadata": {},
   "outputs": [
    {
     "name": "stdout",
     "output_type": "stream",
     "text": [
      "The F1 score of the Logistic Regression on the training set is  0.39631336405529954\n",
      "The F1 score of the Logistic Regression on the test set is  0.40625\n"
     ]
    }
   ],
   "source": [
    "## F1 Score for the tuned Logistic Regression\n",
    "logreg_best_f1_training = f1_score(y_train, y_logreg_best_train_pred)\n",
    "print(\"The F1 score of the tuned Logistic Regression on the training set is \", logreg_best_f1_training)\n",
    "\n",
    "logreg_best_f1_test = f1_score(y_test, y_logreg_best_test_pred)\n",
    "print(\"The F1 score of the tuned Logistic Regression on the test set is \", logreg_best_f1_test)"
   ]
  },
  {
   "cell_type": "code",
   "execution_count": 111,
   "id": "9f259ce8",
   "metadata": {},
   "outputs": [
    {
     "name": "stdout",
     "output_type": "stream",
     "text": [
      "The precision score of the Logistic Regression on the training set is  0.7543859649122807\n",
      "The precision score of the Logistic Regression on the test set is  0.6842105263157895\n"
     ]
    }
   ],
   "source": [
    "## Precision Score for the tuned Logistic Regression\n",
    "logreg_best_precision_training = precision_score(y_train, y_logreg_best_train_pred)\n",
    "print(\"The precision score of the tuned Logistic Regression on the training set is \", logreg_best_precision_training)\n",
    "\n",
    "logreg_best_precision_test = precision_score(y_test, y_logreg_best_test_pred)\n",
    "print(\"The precision score of the tuned Logistic Regression on the test set is \", logreg_best_precision_test)"
   ]
  },
  {
   "cell_type": "code",
   "execution_count": 128,
   "id": "bee4419f",
   "metadata": {},
   "outputs": [
    {
     "name": "stdout",
     "output_type": "stream",
     "text": [
      "The recall score of the tuned Logistic Regression on the training set is  0.26875\n",
      "The recall score of the tuned random Logistic Regression on the test set is  0.28888888888888886\n"
     ]
    }
   ],
   "source": [
    "## Recall Score for the tuned Logistic Regression\n",
    "logreg_best_recall_training = recall_score(y_train, y_logreg_best_train_pred)\n",
    "print(\"The recall score of the tuned Logistic Regression on the training set is \", logreg_best_recall_training)\n",
    "\n",
    "logreg_best_recall_test = recall_score(y_test, y_logreg_best_test_pred)\n",
    "print(\"The recall score of the tuned random Logistic Regression on the test set is \", logreg_best_recall_test)"
   ]
  },
  {
   "cell_type": "code",
   "execution_count": 85,
   "id": "e45fd9bc",
   "metadata": {},
   "outputs": [
    {
     "data": {
      "text/plain": [
       "array([[837,  10],\n",
       "       [ 65,  25]])"
      ]
     },
     "execution_count": 85,
     "metadata": {},
     "output_type": "execute_result"
    }
   ],
   "source": [
    "## General playing around with Logistic Regression before hyperparameter tuning\n",
    "\n",
    "# confusion matrix\n",
    "cm = confusion_matrix(y_test, y_logreg_test_pred)\n",
    "cm"
   ]
  },
  {
   "cell_type": "code",
   "execution_count": 86,
   "id": "52037793",
   "metadata": {},
   "outputs": [
    {
     "name": "stdout",
     "output_type": "stream",
     "text": [
      "              precision    recall  f1-score   support\n",
      "\n",
      "           0       0.93      0.99      0.96       847\n",
      "           1       0.71      0.28      0.40        90\n",
      "\n",
      "    accuracy                           0.92       937\n",
      "   macro avg       0.82      0.63      0.68       937\n",
      "weighted avg       0.91      0.92      0.90       937\n",
      "\n"
     ]
    }
   ],
   "source": [
    "# print the classification report with f-scores\n",
    "print(classification_report(y_test, y_logreg_test_pred))"
   ]
  },
  {
   "cell_type": "code",
   "execution_count": 87,
   "id": "fc0ccc45",
   "metadata": {},
   "outputs": [
    {
     "data": {
      "text/html": [
       "<div>\n",
       "<style scoped>\n",
       "    .dataframe tbody tr th:only-of-type {\n",
       "        vertical-align: middle;\n",
       "    }\n",
       "\n",
       "    .dataframe tbody tr th {\n",
       "        vertical-align: top;\n",
       "    }\n",
       "\n",
       "    .dataframe thead th {\n",
       "        text-align: right;\n",
       "    }\n",
       "</style>\n",
       "<table border=\"1\" class=\"dataframe\">\n",
       "  <thead>\n",
       "    <tr style=\"text-align: right;\">\n",
       "      <th></th>\n",
       "      <th>coef</th>\n",
       "    </tr>\n",
       "  </thead>\n",
       "  <tbody>\n",
       "    <tr>\n",
       "      <th>intercept</th>\n",
       "      <td>-4.308650</td>\n",
       "    </tr>\n",
       "    <tr>\n",
       "      <th>age.65</th>\n",
       "      <td>1.216197</td>\n",
       "    </tr>\n",
       "    <tr>\n",
       "      <th>amnesia.before</th>\n",
       "      <td>0.691451</td>\n",
       "    </tr>\n",
       "    <tr>\n",
       "      <th>basal.skull.fracture</th>\n",
       "      <td>1.888005</td>\n",
       "    </tr>\n",
       "    <tr>\n",
       "      <th>GCS.decrease</th>\n",
       "      <td>0.175991</td>\n",
       "    </tr>\n",
       "    <tr>\n",
       "      <th>GCS.13</th>\n",
       "      <td>1.207188</td>\n",
       "    </tr>\n",
       "    <tr>\n",
       "      <th>GCS.15.2hours</th>\n",
       "      <td>1.488685</td>\n",
       "    </tr>\n",
       "    <tr>\n",
       "      <th>high.risk</th>\n",
       "      <td>1.066512</td>\n",
       "    </tr>\n",
       "    <tr>\n",
       "      <th>loss.of.consciousness</th>\n",
       "      <td>0.871961</td>\n",
       "    </tr>\n",
       "    <tr>\n",
       "      <th>open.skull.fracture</th>\n",
       "      <td>0.292825</td>\n",
       "    </tr>\n",
       "    <tr>\n",
       "      <th>vomiting</th>\n",
       "      <td>1.138958</td>\n",
       "    </tr>\n",
       "  </tbody>\n",
       "</table>\n",
       "</div>"
      ],
      "text/plain": [
       "                           coef\n",
       "intercept             -4.308650\n",
       "age.65                 1.216197\n",
       "amnesia.before         0.691451\n",
       "basal.skull.fracture   1.888005\n",
       "GCS.decrease           0.175991\n",
       "GCS.13                 1.207188\n",
       "GCS.15.2hours          1.488685\n",
       "high.risk              1.066512\n",
       "loss.of.consciousness  0.871961\n",
       "open.skull.fracture    0.292825\n",
       "vomiting               1.138958"
      ]
     },
     "execution_count": 87,
     "metadata": {},
     "output_type": "execute_result"
    }
   ],
   "source": [
    "## Extracting the values of coefficients of the logistic regression model\n",
    "values = np.append(logreg.intercept_, logreg.coef_)\n",
    "names = np.append(\"intercept\", X.columns)\n",
    "parameters = pd.DataFrame(values, index=names, columns=[\"coef\"])\n",
    "parameters"
   ]
  },
  {
   "cell_type": "code",
   "execution_count": 88,
   "id": "465cc2b7",
   "metadata": {},
   "outputs": [
    {
     "data": {
      "text/html": [
       "<div>\n",
       "<style scoped>\n",
       "    .dataframe tbody tr th:only-of-type {\n",
       "        vertical-align: middle;\n",
       "    }\n",
       "\n",
       "    .dataframe tbody tr th {\n",
       "        vertical-align: top;\n",
       "    }\n",
       "\n",
       "    .dataframe thead th {\n",
       "        text-align: right;\n",
       "    }\n",
       "</style>\n",
       "<table border=\"1\" class=\"dataframe\">\n",
       "  <thead>\n",
       "    <tr style=\"text-align: right;\">\n",
       "      <th></th>\n",
       "      <th>coef</th>\n",
       "      <th>exp_coef</th>\n",
       "    </tr>\n",
       "  </thead>\n",
       "  <tbody>\n",
       "    <tr>\n",
       "      <th>intercept</th>\n",
       "      <td>-4.308650</td>\n",
       "      <td>0.013452</td>\n",
       "    </tr>\n",
       "    <tr>\n",
       "      <th>age.65</th>\n",
       "      <td>1.216197</td>\n",
       "      <td>3.374332</td>\n",
       "    </tr>\n",
       "    <tr>\n",
       "      <th>amnesia.before</th>\n",
       "      <td>0.691451</td>\n",
       "      <td>1.996610</td>\n",
       "    </tr>\n",
       "    <tr>\n",
       "      <th>basal.skull.fracture</th>\n",
       "      <td>1.888005</td>\n",
       "      <td>6.606174</td>\n",
       "    </tr>\n",
       "    <tr>\n",
       "      <th>GCS.decrease</th>\n",
       "      <td>0.175991</td>\n",
       "      <td>1.192427</td>\n",
       "    </tr>\n",
       "    <tr>\n",
       "      <th>GCS.13</th>\n",
       "      <td>1.207188</td>\n",
       "      <td>3.344067</td>\n",
       "    </tr>\n",
       "    <tr>\n",
       "      <th>GCS.15.2hours</th>\n",
       "      <td>1.488685</td>\n",
       "      <td>4.431267</td>\n",
       "    </tr>\n",
       "    <tr>\n",
       "      <th>high.risk</th>\n",
       "      <td>1.066512</td>\n",
       "      <td>2.905227</td>\n",
       "    </tr>\n",
       "    <tr>\n",
       "      <th>loss.of.consciousness</th>\n",
       "      <td>0.871961</td>\n",
       "      <td>2.391596</td>\n",
       "    </tr>\n",
       "    <tr>\n",
       "      <th>open.skull.fracture</th>\n",
       "      <td>0.292825</td>\n",
       "      <td>1.340208</td>\n",
       "    </tr>\n",
       "    <tr>\n",
       "      <th>vomiting</th>\n",
       "      <td>1.138958</td>\n",
       "      <td>3.123513</td>\n",
       "    </tr>\n",
       "  </tbody>\n",
       "</table>\n",
       "</div>"
      ],
      "text/plain": [
       "                           coef  exp_coef\n",
       "intercept             -4.308650  0.013452\n",
       "age.65                 1.216197  3.374332\n",
       "amnesia.before         0.691451  1.996610\n",
       "basal.skull.fracture   1.888005  6.606174\n",
       "GCS.decrease           0.175991  1.192427\n",
       "GCS.13                 1.207188  3.344067\n",
       "GCS.15.2hours          1.488685  4.431267\n",
       "high.risk              1.066512  2.905227\n",
       "loss.of.consciousness  0.871961  2.391596\n",
       "open.skull.fracture    0.292825  1.340208\n",
       "vomiting               1.138958  3.123513"
      ]
     },
     "execution_count": 88,
     "metadata": {},
     "output_type": "execute_result"
    }
   ],
   "source": [
    "parameters['exp_coef'] = np.exp(parameters.coef)\n",
    "parameters"
   ]
  },
  {
   "cell_type": "markdown",
   "id": "9c942e7c",
   "metadata": {},
   "source": [
    "The coefficients of the logistic regression model can be interpreted as follows:\n",
    "- The age.65 coefficient is 1.216197, meaning that if every other factor is held constant and the age.65 is increased by 1, the log odd would increase by 1.216197, and therefore the odds of being diagnosed with clinically important brain injury would increase by exp(1.216197) = 3.374332\n",
    "- The amnesia.before coefficient is 0.691451, meaning that if every other factor is held constant and the amensia.before is increased by 1, the log odd would increase by 0.691451, and therefore the odds of being diagnosed with clinically important brain injury would increase by 1.996610.\n",
    "- The basal skull fracture coefficient is 1.88805, meaning that if every other factor is held constant and the basal.skull.fracture is increased by 1, the odds of being diagnosed with clinically important brain injury would increase by 6.606174\n",
    "- The GCS.decrease coefficient is 0.175991, meaning that if every other factor is held constant and the GCS.decrease is increased by 1, the odds of being diagnosed with clinically important brain injury would increase by 1.192427.\n",
    "- The GCS.13 coefficient is 1.207188, meaning that if every other factor is held constant and the GCS.13 is increased by 1, the odds of being diagnosed with clinically important brain injury is 3.344067\n",
    "- The GCS15.2hours coefficient is 1.488685, meaning that if every other factor is held constant and the GCS15.2hours is increased by 1, the odds of being diagnosed with clinically important brain injury is 4.431267\n",
    "- The high.risk coefficient is 1.066512, meaning that if every other factor is held constant and the high.risk is increased by 1, the odds of being diagnosed with clinically important brain injury is 2.905227\n",
    "- The loss.of.consciousness coefficient is 0.871961, meaning that if every other factor is held constant and the loss.of.consciousness is increased by 1, the odds of being diagnosed with clinically important brain injury is 2.391596\n",
    "- The open.skull.fracture coefficient is 0.292825, meaning that if every other factor is held constant and the open.skull.fracture is increased by 1, the odds of being diagnosed with clinically important brain injury is 1.340208\n",
    "- The vomiting coefficient is 1.138958, meaning that if every other factor is held constant and the vomiting is increased by 1, the odds of being diagnosed with clinically important brain injury is 3.123513"
   ]
  }
 ],
 "metadata": {
  "kernelspec": {
   "display_name": "Python 3 (ipykernel)",
   "language": "python",
   "name": "python3"
  },
  "language_info": {
   "codemirror_mode": {
    "name": "ipython",
    "version": 3
   },
   "file_extension": ".py",
   "mimetype": "text/x-python",
   "name": "python",
   "nbconvert_exporter": "python",
   "pygments_lexer": "ipython3",
   "version": "3.10.5"
  }
 },
 "nbformat": 4,
 "nbformat_minor": 5
}
